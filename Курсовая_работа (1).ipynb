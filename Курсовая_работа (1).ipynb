{
 "cells": [
  {
   "cell_type": "markdown",
   "id": "04b09123",
   "metadata": {},
   "source": [
    "# Введение"
   ]
  },
  {
   "cell_type": "markdown",
   "id": "066b3a1c",
   "metadata": {},
   "source": [
    "В современном мире обработка текстов на естественных языках стала одним из ключевых направлений развития искусственного интеллекта. Машинное обучение играет важную роль в этой области, позволяя компьютерам работать с текстами на естественных языках. Все это дает возможность решить множество различных проблем. В данной работе рассмотрен пример решения задачи машинного обучения на примере классификации наличия кибербуллинга в постах в Интернете.\n",
    "\n",
    "В настоящее время, время особо активного развития различных социальных сетей, проблема кибербуллинга стала как никогда актуальной. С ростом числа пользователей сети Интернет и увеличением времени, проведенного ими в виртуальном пространстве, возрастает и вероятность столкнуться с агрессивными или оскорбительными высказываниями. Чтобы сделать Интернет-среду наиболее здоровой и безопасной, необходимо очень тщательно модерировать все посты и сообщения социальных сетей. Из-за большого количества подобных комментариев, очень сложно проводить модерацию вручную. Поэтому для борьбы с этим явлением становится важным использование методов машинного обучения для автоматизированной проверки текстов на признаки кибербуллинга.\n",
    "\n",
    "**Решаемая задача:** По содержанию твитов (постов социальной сети Twitter) определить какой тип кибербуллинга содержится в нем. Данная задача в машинном обучении относится к задачам классификации.\n",
    "\n",
    "**Цель работы:** Исследование и применение методов машинного обучения в задаче обработки текста на естественных языках для выявления и классификации сообщений в сети Интернет, содержащих признаки кибербуллинга.\n",
    "\n",
    "**Задачи:**\n",
    "\n",
    "1. Сбор и анализ данных.\n",
    "\n",
    "2. Предобработка текста.\n",
    "\n",
    "3. Обучение моделей машинного обучения для классификации постов.\n",
    "\n",
    "4. Выбор наилучшей модели на основе выбранной метрики эффективности и времени обучения.\n",
    "\n",
    "5. Улучшение полученной модели."
   ]
  },
  {
   "cell_type": "markdown",
   "id": "015a7344",
   "metadata": {},
   "source": [
    "# Основная часть "
   ]
  },
  {
   "cell_type": "markdown",
   "id": "c9ba8b2f",
   "metadata": {},
   "source": [
    "## Загрузка библиотек"
   ]
  },
  {
   "cell_type": "code",
   "execution_count": 180,
   "id": "4719a16b",
   "metadata": {},
   "outputs": [],
   "source": [
    "import numpy as np\n",
    "import pandas as pd\n",
    "import matplotlib.pyplot as plt\n",
    "import seaborn as sns\n",
    "# обработка данных\n",
    "import re\n",
    "import string\n",
    "import demoji\n",
    "import nltk\n",
    "from collections import Counter\n",
    "from nltk.corpus import stopwords\n",
    "from nltk.tokenize import word_tokenize\n",
    "from nltk.stem import WordNetLemmatizer\n",
    "from wordcloud import WordCloud\n",
    "from sklearn.preprocessing import LabelEncoder\n",
    "from sklearn.feature_extraction.text import TfidfVectorizer\n",
    "from sklearn.feature_extraction.text import CountVectorizer\n",
    "# модели\n",
    "from sklearn.model_selection import train_test_split\n",
    "from sklearn.linear_model import LogisticRegression\n",
    "from sklearn.neighbors import KNeighborsClassifier\n",
    "from sklearn.svm import SVC\n",
    "from sklearn.ensemble import GradientBoostingClassifier\n",
    "from sklearn.ensemble import RandomForestClassifier\n",
    "from sklearn.naive_bayes import MultinomialNB\n",
    "from sklearn.linear_model import SGDClassifier\n",
    "from sklearn.neural_network import MLPClassifier\n",
    "from sklearn.pipeline import Pipeline\n",
    "# улучшение модели\n",
    "from sklearn.model_selection import GridSearchCV\n",
    "from sklearn.model_selection import cross_validate\n",
    "from yellowbrick.model_selection import LearningCurve\n",
    "from sklearn.ensemble import BaggingClassifier\n",
    "# метрики качества модели\n",
    "from sklearn.metrics import accuracy_score\n",
    "from sklearn.metrics import confusion_matrix\n",
    "from sklearn.metrics import recall_score\n",
    "from sklearn.metrics import precision_score\n",
    "from sklearn.metrics import f1_score\n",
    "from sklearn.metrics import classification_report\n",
    "from sklearn.metrics import roc_auc_score\n",
    "from sklearn.metrics import auc\n",
    "from yellowbrick.classifier import ROCAUC, PrecisionRecallCurve"
   ]
  },
  {
   "cell_type": "markdown",
   "id": "811a53af",
   "metadata": {},
   "source": [
    "## Загрузка и описание данных \n",
    "\n",
    "(№1 методических рекомендаций)"
   ]
  },
  {
   "cell_type": "markdown",
   "id": "b270ea2f",
   "metadata": {},
   "source": [
    "Для выполнения данного исследования был взят датасет с сайта  [Kaggle](https://www.kaggle.com/datasets/andrewmvd/cyberbullying-classification/data). Авторами данного датасета являются три студента Jason Wang, Kaiqun Fu и Chang-Tien Lu, которые впервые представили его на  2020 IEEE International Conference on Big Data в своей научной работе$^1$. \n",
    "\n",
    "------\n",
    "1. J. Wang, K. Fu and C. -T. Lu, \"SOSNet: A Graph Convolutional Network Approach to Fine-Grained Cyberbullying Detection,\" 2020 IEEE International Conference on Big Data (Big Data), Atlanta, GA, USA, 2020, pp. 1699-1708, doi: 10.1109/BigData50022.2020.9378065.\n"
   ]
  },
  {
   "cell_type": "code",
   "execution_count": 276,
   "id": "29dcab58",
   "metadata": {
    "scrolled": true
   },
   "outputs": [
    {
     "data": {
      "text/html": [
       "<div>\n",
       "<style scoped>\n",
       "    .dataframe tbody tr th:only-of-type {\n",
       "        vertical-align: middle;\n",
       "    }\n",
       "\n",
       "    .dataframe tbody tr th {\n",
       "        vertical-align: top;\n",
       "    }\n",
       "\n",
       "    .dataframe thead th {\n",
       "        text-align: right;\n",
       "    }\n",
       "</style>\n",
       "<table border=\"1\" class=\"dataframe\">\n",
       "  <thead>\n",
       "    <tr style=\"text-align: right;\">\n",
       "      <th></th>\n",
       "      <th>tweet_text</th>\n",
       "      <th>cyberbullying_type</th>\n",
       "    </tr>\n",
       "  </thead>\n",
       "  <tbody>\n",
       "    <tr>\n",
       "      <th>0</th>\n",
       "      <td>In other words #katandandre, your food was cra...</td>\n",
       "      <td>not_cyberbullying</td>\n",
       "    </tr>\n",
       "    <tr>\n",
       "      <th>1</th>\n",
       "      <td>Why is #aussietv so white? #MKR #theblock #ImA...</td>\n",
       "      <td>not_cyberbullying</td>\n",
       "    </tr>\n",
       "    <tr>\n",
       "      <th>2</th>\n",
       "      <td>@XochitlSuckkks a classy whore? Or more red ve...</td>\n",
       "      <td>not_cyberbullying</td>\n",
       "    </tr>\n",
       "    <tr>\n",
       "      <th>3</th>\n",
       "      <td>@Jason_Gio meh. :P  thanks for the heads up, b...</td>\n",
       "      <td>not_cyberbullying</td>\n",
       "    </tr>\n",
       "    <tr>\n",
       "      <th>4</th>\n",
       "      <td>@RudhoeEnglish This is an ISIS account pretend...</td>\n",
       "      <td>not_cyberbullying</td>\n",
       "    </tr>\n",
       "  </tbody>\n",
       "</table>\n",
       "</div>"
      ],
      "text/plain": [
       "                                          tweet_text cyberbullying_type\n",
       "0  In other words #katandandre, your food was cra...  not_cyberbullying\n",
       "1  Why is #aussietv so white? #MKR #theblock #ImA...  not_cyberbullying\n",
       "2  @XochitlSuckkks a classy whore? Or more red ve...  not_cyberbullying\n",
       "3  @Jason_Gio meh. :P  thanks for the heads up, b...  not_cyberbullying\n",
       "4  @RudhoeEnglish This is an ISIS account pretend...  not_cyberbullying"
      ]
     },
     "execution_count": 276,
     "metadata": {},
     "output_type": "execute_result"
    }
   ],
   "source": [
    "data = pd.read_csv('cyberbullying_tweets.csv')\n",
    "data.head()"
   ]
  },
  {
   "cell_type": "code",
   "execution_count": 277,
   "id": "3d8f0f6b",
   "metadata": {},
   "outputs": [
    {
     "data": {
      "text/plain": [
       "(47692, 2)"
      ]
     },
     "execution_count": 277,
     "metadata": {},
     "output_type": "execute_result"
    }
   ],
   "source": [
    "data.shape"
   ]
  },
  {
   "cell_type": "markdown",
   "id": "ca8f1016",
   "metadata": {},
   "source": [
    "> Датасет содержит 2 столбца и 47692 строки."
   ]
  },
  {
   "cell_type": "markdown",
   "id": "758408e8",
   "metadata": {},
   "source": [
    "**Столбцы:**\n",
    "\n",
    "- tweet_text: текст поста пользователя социальной сети Twitter\n",
    "\n",
    "- cyberbullying_type: класс, к которому относится кибербуллинг в посте"
   ]
  },
  {
   "cell_type": "markdown",
   "id": "a4509c0d",
   "metadata": {},
   "source": [
    "**Примеры строк из столбца 'tweet_text':**"
   ]
  },
  {
   "cell_type": "code",
   "execution_count": 278,
   "id": "2c9e87ea",
   "metadata": {},
   "outputs": [
    {
     "name": "stdout",
     "output_type": "stream",
     "text": [
      "In other words #katandandre, your food was crapilicious! #mkr\n",
      "Why is #aussietv so white? #MKR #theblock #ImACelebrityAU #today #sunrise #studio10 #Neighbours #WonderlandTen #etc\n"
     ]
    }
   ],
   "source": [
    "print(data['tweet_text'].iloc[0])\n",
    "print(data['tweet_text'].iloc[1])"
   ]
  },
  {
   "cell_type": "markdown",
   "id": "bf97b40c",
   "metadata": {},
   "source": [
    "**Анализ столбца 'cyberbullying_type':**"
   ]
  },
  {
   "cell_type": "code",
   "execution_count": 279,
   "id": "ecc6fd68",
   "metadata": {},
   "outputs": [
    {
     "data": {
      "text/plain": [
       "['not_cyberbullying',\n",
       " 'gender',\n",
       " 'religion',\n",
       " 'other_cyberbullying',\n",
       " 'age',\n",
       " 'ethnicity']"
      ]
     },
     "execution_count": 279,
     "metadata": {},
     "output_type": "execute_result"
    }
   ],
   "source": [
    "list(data['cyberbullying_type'].unique())"
   ]
  },
  {
   "cell_type": "markdown",
   "id": "574054e0",
   "metadata": {},
   "source": [
    "Данный столбец является целевой переменной. Он содержит следующие классы:\n",
    "\n",
    "- religion (религия)\n",
    "\n",
    "- age (возраст)\n",
    "\n",
    "- gender (пол)\n",
    "\n",
    "- ethnicity (этническая принадлежность)\n",
    "\n",
    "- not_cyberbullying (кибербуллинга нет)\n",
    "\n",
    "- other_cyberbullying (другой тип кибербуллинга)"
   ]
  },
  {
   "cell_type": "markdown",
   "id": "48a4c7a3",
   "metadata": {},
   "source": [
    "## Предварительный анализ данных\n",
    "\n",
    "(№2 и №11 (визуализация) методических рекоментациях)"
   ]
  },
  {
   "cell_type": "markdown",
   "id": "5470d165",
   "metadata": {},
   "source": [
    "**Основная статистическая информация:**"
   ]
  },
  {
   "cell_type": "code",
   "execution_count": 280,
   "id": "ad6a96e5",
   "metadata": {},
   "outputs": [
    {
     "data": {
      "text/html": [
       "<div>\n",
       "<style scoped>\n",
       "    .dataframe tbody tr th:only-of-type {\n",
       "        vertical-align: middle;\n",
       "    }\n",
       "\n",
       "    .dataframe tbody tr th {\n",
       "        vertical-align: top;\n",
       "    }\n",
       "\n",
       "    .dataframe thead th {\n",
       "        text-align: right;\n",
       "    }\n",
       "</style>\n",
       "<table border=\"1\" class=\"dataframe\">\n",
       "  <thead>\n",
       "    <tr style=\"text-align: right;\">\n",
       "      <th></th>\n",
       "      <th>tweet_text</th>\n",
       "      <th>cyberbullying_type</th>\n",
       "    </tr>\n",
       "  </thead>\n",
       "  <tbody>\n",
       "    <tr>\n",
       "      <th>count</th>\n",
       "      <td>47692</td>\n",
       "      <td>47692</td>\n",
       "    </tr>\n",
       "    <tr>\n",
       "      <th>unique</th>\n",
       "      <td>46017</td>\n",
       "      <td>6</td>\n",
       "    </tr>\n",
       "    <tr>\n",
       "      <th>top</th>\n",
       "      <td>RT @sailorhg: the intro for my hardware hackin...</td>\n",
       "      <td>religion</td>\n",
       "    </tr>\n",
       "    <tr>\n",
       "      <th>freq</th>\n",
       "      <td>2</td>\n",
       "      <td>7998</td>\n",
       "    </tr>\n",
       "  </tbody>\n",
       "</table>\n",
       "</div>"
      ],
      "text/plain": [
       "                                               tweet_text cyberbullying_type\n",
       "count                                               47692              47692\n",
       "unique                                              46017                  6\n",
       "top     RT @sailorhg: the intro for my hardware hackin...           religion\n",
       "freq                                                    2               7998"
      ]
     },
     "execution_count": 280,
     "metadata": {},
     "output_type": "execute_result"
    }
   ],
   "source": [
    "data.describe()"
   ]
  },
  {
   "cell_type": "code",
   "execution_count": 281,
   "id": "2dc5168a",
   "metadata": {},
   "outputs": [
    {
     "name": "stdout",
     "output_type": "stream",
     "text": [
      "<class 'pandas.core.frame.DataFrame'>\n",
      "RangeIndex: 47692 entries, 0 to 47691\n",
      "Data columns (total 2 columns):\n",
      " #   Column              Non-Null Count  Dtype \n",
      "---  ------              --------------  ----- \n",
      " 0   tweet_text          47692 non-null  object\n",
      " 1   cyberbullying_type  47692 non-null  object\n",
      "dtypes: object(2)\n",
      "memory usage: 745.3+ KB\n"
     ]
    }
   ],
   "source": [
    "data.info() #название столбца, количество ненулевых значений, тип данных"
   ]
  },
  {
   "cell_type": "markdown",
   "id": "3329a5f0",
   "metadata": {},
   "source": [
    "> В обоих столбцах содержатся строковые данные."
   ]
  },
  {
   "cell_type": "markdown",
   "id": "8bfe0ef6",
   "metadata": {},
   "source": [
    "**Дубликаты строк:**"
   ]
  },
  {
   "cell_type": "code",
   "execution_count": 282,
   "id": "d36ad0a4",
   "metadata": {},
   "outputs": [
    {
     "data": {
      "text/html": [
       "<div>\n",
       "<style scoped>\n",
       "    .dataframe tbody tr th:only-of-type {\n",
       "        vertical-align: middle;\n",
       "    }\n",
       "\n",
       "    .dataframe tbody tr th {\n",
       "        vertical-align: top;\n",
       "    }\n",
       "\n",
       "    .dataframe thead th {\n",
       "        text-align: right;\n",
       "    }\n",
       "</style>\n",
       "<table border=\"1\" class=\"dataframe\">\n",
       "  <thead>\n",
       "    <tr style=\"text-align: right;\">\n",
       "      <th></th>\n",
       "      <th>tweet_text</th>\n",
       "      <th>cyberbullying_type</th>\n",
       "    </tr>\n",
       "  </thead>\n",
       "  <tbody>\n",
       "    <tr>\n",
       "      <th>1758</th>\n",
       "      <td>Our pancakes are selling like hotcakes Shaz - ...</td>\n",
       "      <td>not_cyberbullying</td>\n",
       "    </tr>\n",
       "    <tr>\n",
       "      <th>3833</th>\n",
       "      <td>But you all respect him....Pete hasn't read tw...</td>\n",
       "      <td>not_cyberbullying</td>\n",
       "    </tr>\n",
       "    <tr>\n",
       "      <th>3939</th>\n",
       "      <td>This is the opportunity to prove ourselves lik...</td>\n",
       "      <td>not_cyberbullying</td>\n",
       "    </tr>\n",
       "    <tr>\n",
       "      <th>5684</th>\n",
       "      <td>Strategicscoring should be classed as cheating...</td>\n",
       "      <td>not_cyberbullying</td>\n",
       "    </tr>\n",
       "    <tr>\n",
       "      <th>6975</th>\n",
       "      <td>If we're at the bottom of the leaderboard, we'...</td>\n",
       "      <td>not_cyberbullying</td>\n",
       "    </tr>\n",
       "  </tbody>\n",
       "</table>\n",
       "</div>"
      ],
      "text/plain": [
       "                                             tweet_text cyberbullying_type\n",
       "1758  Our pancakes are selling like hotcakes Shaz - ...  not_cyberbullying\n",
       "3833  But you all respect him....Pete hasn't read tw...  not_cyberbullying\n",
       "3939  This is the opportunity to prove ourselves lik...  not_cyberbullying\n",
       "5684  Strategicscoring should be classed as cheating...  not_cyberbullying\n",
       "6975  If we're at the bottom of the leaderboard, we'...  not_cyberbullying"
      ]
     },
     "execution_count": 282,
     "metadata": {},
     "output_type": "execute_result"
    }
   ],
   "source": [
    "duplicateRows = data[data.duplicated()]\n",
    "dup_ind = duplicateRows.index\n",
    "duplicateRows.head()"
   ]
  },
  {
   "cell_type": "code",
   "execution_count": 283,
   "id": "0f7e5963",
   "metadata": {},
   "outputs": [],
   "source": [
    "data.drop(dup_ind, inplace = True)"
   ]
  },
  {
   "cell_type": "markdown",
   "id": "8df977cc",
   "metadata": {},
   "source": [
    "> В датасете содержались дубликаты строк, которые были удалены."
   ]
  },
  {
   "cell_type": "markdown",
   "id": "1591b11f",
   "metadata": {},
   "source": [
    "**Анализ на наличие аномалий:**"
   ]
  },
  {
   "cell_type": "markdown",
   "id": "9b76dbc9",
   "metadata": {},
   "source": [
    "На момент создания датасета, максимальная длина твита могла достигать только 280 символов. Проверим, все ли строки соответствуют данному условию."
   ]
  },
  {
   "cell_type": "code",
   "execution_count": 284,
   "id": "ea6da1d1",
   "metadata": {},
   "outputs": [
    {
     "data": {
      "text/plain": [
       "(703, 2)"
      ]
     },
     "metadata": {},
     "output_type": "display_data"
    },
    {
     "data": {
      "text/html": [
       "<div>\n",
       "<style scoped>\n",
       "    .dataframe tbody tr th:only-of-type {\n",
       "        vertical-align: middle;\n",
       "    }\n",
       "\n",
       "    .dataframe tbody tr th {\n",
       "        vertical-align: top;\n",
       "    }\n",
       "\n",
       "    .dataframe thead th {\n",
       "        text-align: right;\n",
       "    }\n",
       "</style>\n",
       "<table border=\"1\" class=\"dataframe\">\n",
       "  <thead>\n",
       "    <tr style=\"text-align: right;\">\n",
       "      <th></th>\n",
       "      <th>tweet_text</th>\n",
       "      <th>cyberbullying_type</th>\n",
       "    </tr>\n",
       "  </thead>\n",
       "  <tbody>\n",
       "    <tr>\n",
       "      <th>1317</th>\n",
       "      <td>@EurekAlertAAAS: Researchers push to import to...</td>\n",
       "      <td>not_cyberbullying</td>\n",
       "    </tr>\n",
       "    <tr>\n",
       "      <th>3030</th>\n",
       "      <td>He embellished the afternoon with moustachioed...</td>\n",
       "      <td>not_cyberbullying</td>\n",
       "    </tr>\n",
       "    <tr>\n",
       "      <th>4846</th>\n",
       "      <td>@andrea_gcav: @viviaanajim recuerdas como noso...</td>\n",
       "      <td>not_cyberbullying</td>\n",
       "    </tr>\n",
       "    <tr>\n",
       "      <th>7959</th>\n",
       "      <td>I always get fucking pissed when I see a man j...</td>\n",
       "      <td>gender</td>\n",
       "    </tr>\n",
       "    <tr>\n",
       "      <th>8043</th>\n",
       "      <td>I posted about a problematic drag queen that m...</td>\n",
       "      <td>gender</td>\n",
       "    </tr>\n",
       "  </tbody>\n",
       "</table>\n",
       "</div>"
      ],
      "text/plain": [
       "                                             tweet_text cyberbullying_type\n",
       "1317  @EurekAlertAAAS: Researchers push to import to...  not_cyberbullying\n",
       "3030  He embellished the afternoon with moustachioed...  not_cyberbullying\n",
       "4846  @andrea_gcav: @viviaanajim recuerdas como noso...  not_cyberbullying\n",
       "7959  I always get fucking pissed when I see a man j...             gender\n",
       "8043  I posted about a problematic drag queen that m...             gender"
      ]
     },
     "execution_count": 284,
     "metadata": {},
     "output_type": "execute_result"
    }
   ],
   "source": [
    "anomaly = data[data['tweet_text'].str.len() > 280]\n",
    "ind = anomaly.index\n",
    "display(anomaly.shape)\n",
    "anomaly.head()"
   ]
  },
  {
   "cell_type": "code",
   "execution_count": 285,
   "id": "8a29ad5c",
   "metadata": {},
   "outputs": [],
   "source": [
    "data.drop(ind, inplace = True)"
   ]
  },
  {
   "cell_type": "markdown",
   "id": "eb0573ca",
   "metadata": {},
   "source": [
    "> В датасете содержалось 702 твита длиной больше 280, поэтому, пометив их как аномальные, удалили их из датасета."
   ]
  },
  {
   "cell_type": "markdown",
   "id": "8cb72807",
   "metadata": {},
   "source": [
    "**Пропущенные значения:**"
   ]
  },
  {
   "cell_type": "code",
   "execution_count": 286,
   "id": "a72f15aa",
   "metadata": {},
   "outputs": [
    {
     "data": {
      "text/plain": [
       "tweet_text            0\n",
       "cyberbullying_type    0\n",
       "dtype: int64"
      ]
     },
     "execution_count": 286,
     "metadata": {},
     "output_type": "execute_result"
    }
   ],
   "source": [
    "data.isnull().sum() "
   ]
  },
  {
   "cell_type": "code",
   "execution_count": 287,
   "id": "55d19f19",
   "metadata": {},
   "outputs": [
    {
     "data": {
      "image/png": "[encoded data removed]",
      "text/plain": [
       "<Figure size 500x500 with 2 Axes>"
      ]
     },
     "metadata": {},
     "output_type": "display_data"
    }
   ],
   "source": [
    "fig, ax = plt.subplots(figsize = (5, 5))\n",
    "sns.heatmap(data.isnull())\n",
    "ax.set(title = 'Пропущенные значения')\n",
    "plt.show()"
   ]
  },
  {
   "cell_type": "markdown",
   "id": "20bd87b0",
   "metadata": {},
   "source": [
    "> В датасете нет пропущенных значений."
   ]
  },
  {
   "cell_type": "markdown",
   "id": "cc56ce38",
   "metadata": {},
   "source": [
    "**Дисбаланс классов:**"
   ]
  },
  {
   "cell_type": "code",
   "execution_count": 288,
   "id": "9d04260b",
   "metadata": {},
   "outputs": [
    {
     "data": {
      "text/plain": [
       "cyberbullying_type\n",
       "not_cyberbullying      7934\n",
       "ethnicity              7862\n",
       "gender                 7837\n",
       "age                    7817\n",
       "other_cyberbullying    7816\n",
       "religion               7687\n",
       "Name: count, dtype: int64"
      ]
     },
     "execution_count": 288,
     "metadata": {},
     "output_type": "execute_result"
    }
   ],
   "source": [
    "data['cyberbullying_type'].value_counts()"
   ]
  },
  {
   "cell_type": "code",
   "execution_count": 289,
   "id": "fdc1b977",
   "metadata": {},
   "outputs": [
    {
     "data": {
      "image/png": "[encoded data removed]",
      "text/plain": [
       "<Figure size 500x500 with 1 Axes>"
      ]
     },
     "metadata": {},
     "output_type": "display_data"
    }
   ],
   "source": [
    "fig, ax = plt.subplots(figsize = (5, 5))\n",
    "ax.pie(list(data['cyberbullying_type'].value_counts()), \n",
    "       labels=data['cyberbullying_type'].value_counts().index, \n",
    "       autopct='%1.1f%%'       )\n",
    "ax.set(title = 'Диаграмма процентного соотношения всех классов')\n",
    "plt.show()"
   ]
  },
  {
   "cell_type": "markdown",
   "id": "c994591b",
   "metadata": {},
   "source": [
    "> Диcбаланса классов нет."
   ]
  },
  {
   "cell_type": "code",
   "execution_count": 290,
   "id": "4acf863b",
   "metadata": {},
   "outputs": [
    {
     "data": {
      "text/plain": [
       "(46953, 2)"
      ]
     },
     "execution_count": 290,
     "metadata": {},
     "output_type": "execute_result"
    }
   ],
   "source": [
    "data.shape"
   ]
  },
  {
   "cell_type": "markdown",
   "id": "848d7acd",
   "metadata": {},
   "source": [
    "> После предобработки данных размер датасета составляет: 46953 строки и 2 столбца."
   ]
  },
  {
   "cell_type": "markdown",
   "id": "0c3765e0",
   "metadata": {},
   "source": [
    "**Деление на признаки и целевую переменную:**"
   ]
  },
  {
   "cell_type": "code",
   "execution_count": 196,
   "id": "d3c5fbff",
   "metadata": {},
   "outputs": [
    {
     "data": {
      "text/html": [
       "<div>\n",
       "<style scoped>\n",
       "    .dataframe tbody tr th:only-of-type {\n",
       "        vertical-align: middle;\n",
       "    }\n",
       "\n",
       "    .dataframe tbody tr th {\n",
       "        vertical-align: top;\n",
       "    }\n",
       "\n",
       "    .dataframe thead th {\n",
       "        text-align: right;\n",
       "    }\n",
       "</style>\n",
       "<table border=\"1\" class=\"dataframe\">\n",
       "  <thead>\n",
       "    <tr style=\"text-align: right;\">\n",
       "      <th></th>\n",
       "      <th>tweet_text</th>\n",
       "    </tr>\n",
       "  </thead>\n",
       "  <tbody>\n",
       "    <tr>\n",
       "      <th>0</th>\n",
       "      <td>In other words #katandandre, your food was cra...</td>\n",
       "    </tr>\n",
       "    <tr>\n",
       "      <th>1</th>\n",
       "      <td>Why is #aussietv so white? #MKR #theblock #ImA...</td>\n",
       "    </tr>\n",
       "    <tr>\n",
       "      <th>2</th>\n",
       "      <td>@XochitlSuckkks a classy whore? Or more red ve...</td>\n",
       "    </tr>\n",
       "    <tr>\n",
       "      <th>3</th>\n",
       "      <td>@Jason_Gio meh. :P  thanks for the heads up, b...</td>\n",
       "    </tr>\n",
       "    <tr>\n",
       "      <th>4</th>\n",
       "      <td>@RudhoeEnglish This is an ISIS account pretend...</td>\n",
       "    </tr>\n",
       "  </tbody>\n",
       "</table>\n",
       "</div>"
      ],
      "text/plain": [
       "                                          tweet_text\n",
       "0  In other words #katandandre, your food was cra...\n",
       "1  Why is #aussietv so white? #MKR #theblock #ImA...\n",
       "2  @XochitlSuckkks a classy whore? Or more red ve...\n",
       "3  @Jason_Gio meh. :P  thanks for the heads up, b...\n",
       "4  @RudhoeEnglish This is an ISIS account pretend..."
      ]
     },
     "execution_count": 196,
     "metadata": {},
     "output_type": "execute_result"
    }
   ],
   "source": [
    "X = data[['tweet_text']]\n",
    "X.head()"
   ]
  },
  {
   "cell_type": "code",
   "execution_count": 197,
   "id": "26ac232f",
   "metadata": {},
   "outputs": [
    {
     "data": {
      "text/html": [
       "<div>\n",
       "<style scoped>\n",
       "    .dataframe tbody tr th:only-of-type {\n",
       "        vertical-align: middle;\n",
       "    }\n",
       "\n",
       "    .dataframe tbody tr th {\n",
       "        vertical-align: top;\n",
       "    }\n",
       "\n",
       "    .dataframe thead th {\n",
       "        text-align: right;\n",
       "    }\n",
       "</style>\n",
       "<table border=\"1\" class=\"dataframe\">\n",
       "  <thead>\n",
       "    <tr style=\"text-align: right;\">\n",
       "      <th></th>\n",
       "      <th>cyberbullying_type</th>\n",
       "    </tr>\n",
       "  </thead>\n",
       "  <tbody>\n",
       "    <tr>\n",
       "      <th>0</th>\n",
       "      <td>not_cyberbullying</td>\n",
       "    </tr>\n",
       "    <tr>\n",
       "      <th>1</th>\n",
       "      <td>not_cyberbullying</td>\n",
       "    </tr>\n",
       "    <tr>\n",
       "      <th>2</th>\n",
       "      <td>not_cyberbullying</td>\n",
       "    </tr>\n",
       "    <tr>\n",
       "      <th>3</th>\n",
       "      <td>not_cyberbullying</td>\n",
       "    </tr>\n",
       "    <tr>\n",
       "      <th>4</th>\n",
       "      <td>not_cyberbullying</td>\n",
       "    </tr>\n",
       "  </tbody>\n",
       "</table>\n",
       "</div>"
      ],
      "text/plain": [
       "  cyberbullying_type\n",
       "0  not_cyberbullying\n",
       "1  not_cyberbullying\n",
       "2  not_cyberbullying\n",
       "3  not_cyberbullying\n",
       "4  not_cyberbullying"
      ]
     },
     "execution_count": 197,
     "metadata": {},
     "output_type": "execute_result"
    }
   ],
   "source": [
    "y = data[['cyberbullying_type']]\n",
    "y.head()"
   ]
  },
  {
   "cell_type": "markdown",
   "id": "7b697c79",
   "metadata": {},
   "source": [
    "Также необходимо привести целевую переменную к категориальному типу:"
   ]
  },
  {
   "cell_type": "code",
   "execution_count": 198,
   "id": "d78e9f23",
   "metadata": {},
   "outputs": [
    {
     "name": "stdout",
     "output_type": "stream",
     "text": [
      "<class 'pandas.core.frame.DataFrame'>\n",
      "Index: 46953 entries, 0 to 47691\n",
      "Data columns (total 1 columns):\n",
      " #   Column              Non-Null Count  Dtype   \n",
      "---  ------              --------------  -----   \n",
      " 0   cyberbullying_type  46953 non-null  category\n",
      "dtypes: category(1)\n",
      "memory usage: 412.9 KB\n"
     ]
    }
   ],
   "source": [
    "y = y.astype('category')\n",
    "y.info()"
   ]
  },
  {
   "cell_type": "markdown",
   "id": "b7e8b198",
   "metadata": {},
   "source": [
    "## Обработка естественного языка и векторизация \n",
    "\n",
    "(№3 методических рекомендаций)"
   ]
  },
  {
   "cell_type": "markdown",
   "id": "3180869b",
   "metadata": {},
   "source": [
    "**Приведение к единому регистру:**"
   ]
  },
  {
   "cell_type": "code",
   "execution_count": 199,
   "id": "f8de8957",
   "metadata": {},
   "outputs": [],
   "source": [
    "def make_lower(text):\n",
    "    return text.str.lower()"
   ]
  },
  {
   "cell_type": "markdown",
   "id": "ffa6bd1d",
   "metadata": {},
   "source": [
    "**Удаление emoji:**"
   ]
  },
  {
   "cell_type": "code",
   "execution_count": 200,
   "id": "75479fe6",
   "metadata": {},
   "outputs": [],
   "source": [
    "def remove_emoji(text):\n",
    "    return pd.Series([demoji.replace(text_i, '') for text_i in text])"
   ]
  },
  {
   "cell_type": "markdown",
   "id": "a9e14b64",
   "metadata": {},
   "source": [
    "**Удаление знаков пунктуации:**"
   ]
  },
  {
   "cell_type": "markdown",
   "id": "bb04059b",
   "metadata": {},
   "source": [
    "К знакам пунктуации относятся: '!\"#$%&'()*+,-./:;<=>?@[\\]^_`{|}~'"
   ]
  },
  {
   "cell_type": "code",
   "execution_count": 201,
   "id": "d7222609",
   "metadata": {},
   "outputs": [],
   "source": [
    "def remove_punctuation(text):\n",
    "    return text.translate(str.maketrans('', '', string.punctuation))"
   ]
  },
  {
   "cell_type": "markdown",
   "id": "dcfa916e",
   "metadata": {},
   "source": [
    "**Удаление ссылок:**"
   ]
  },
  {
   "cell_type": "code",
   "execution_count": 202,
   "id": "ba94c563",
   "metadata": {},
   "outputs": [],
   "source": [
    "def remove_url(text):   \n",
    "    return re.compile('https?://\\S+|www\\.\\S+').sub('', text)"
   ]
  },
  {
   "cell_type": "markdown",
   "id": "a4f8d90c",
   "metadata": {},
   "source": [
    "**Удаление стоп-слов:**"
   ]
  },
  {
   "cell_type": "markdown",
   "id": "4fdd6527",
   "metadata": {},
   "source": [
    "Стоп-слова представляют собой распространенные слова в языке, которые часто не несут глубокого смысла. Избавление от них помогает уменьшить объем текста для анализа и сфокусироваться на более важных словах, что улучшает точность и эффективность обработки текста.\n",
    "\n",
    "К стоп-словам относятся местоимения (например: i, me, my, myself), артикли (a, an, the), предлоги (in, out, on, off) и т.д."
   ]
  },
  {
   "cell_type": "code",
   "execution_count": 203,
   "id": "bf04ba34",
   "metadata": {},
   "outputs": [],
   "source": [
    "def remove_stopwords(text):\n",
    "    sw = stopwords.words('english')\n",
    "    filtered_text = []\n",
    "    for word in text.split():\n",
    "        if word not in sw:\n",
    "            filtered_text.append(word)\n",
    "    return ' '.join(filtered_text)"
   ]
  },
  {
   "cell_type": "markdown",
   "id": "e039501d",
   "metadata": {},
   "source": [
    "**Лемматизация:**"
   ]
  },
  {
   "cell_type": "markdown",
   "id": "9dfb264a",
   "metadata": {},
   "source": [
    "Лемматизация представляет собой процесс приведения слова к его нормальной, или словарной, форме, которая называется леммой."
   ]
  },
  {
   "cell_type": "code",
   "execution_count": 204,
   "id": "41f4d66a",
   "metadata": {},
   "outputs": [],
   "source": [
    "def lemmatize_text(text):\n",
    "    lemmatizer = WordNetLemmatizer()\n",
    "    lemmas = []\n",
    "    for word in text.split():\n",
    "        lemma = lemmatizer.lemmatize(word)\n",
    "        lemmas.append(lemma) \n",
    "    return ' '.join(lemmas)"
   ]
  },
  {
   "cell_type": "markdown",
   "id": "8eac63ea",
   "metadata": {},
   "source": [
    "Теперь применим все функции к X."
   ]
  },
  {
   "cell_type": "code",
   "execution_count": 205,
   "id": "3d9e016b",
   "metadata": {},
   "outputs": [],
   "source": [
    "def text_preprocessing(X):\n",
    "    X = make_lower(X)\n",
    "    X = remove_emoji(X)\n",
    "    X = X.apply(remove_url)\n",
    "    X = X.apply(remove_punctuation)\n",
    "    X = X.apply(remove_stopwords)\n",
    "    X = X.apply(lemmatize_text)\n",
    "    return X\n",
    "\n",
    "X_pp = text_preprocessing(X['tweet_text'])"
   ]
  },
  {
   "cell_type": "code",
   "execution_count": 206,
   "id": "d85968da",
   "metadata": {},
   "outputs": [
    {
     "data": {
      "text/html": [
       "<div>\n",
       "<style scoped>\n",
       "    .dataframe tbody tr th:only-of-type {\n",
       "        vertical-align: middle;\n",
       "    }\n",
       "\n",
       "    .dataframe tbody tr th {\n",
       "        vertical-align: top;\n",
       "    }\n",
       "\n",
       "    .dataframe thead th {\n",
       "        text-align: right;\n",
       "    }\n",
       "</style>\n",
       "<table border=\"1\" class=\"dataframe\">\n",
       "  <thead>\n",
       "    <tr style=\"text-align: right;\">\n",
       "      <th></th>\n",
       "      <th>tweet_text</th>\n",
       "    </tr>\n",
       "  </thead>\n",
       "  <tbody>\n",
       "    <tr>\n",
       "      <th>0</th>\n",
       "      <td>word katandandre food crapilicious mkr</td>\n",
       "    </tr>\n",
       "    <tr>\n",
       "      <th>1</th>\n",
       "      <td>aussietv white mkr theblock imacelebrityau tod...</td>\n",
       "    </tr>\n",
       "    <tr>\n",
       "      <th>2</th>\n",
       "      <td>xochitlsuckkks classy whore red velvet cupcake</td>\n",
       "    </tr>\n",
       "    <tr>\n",
       "      <th>3</th>\n",
       "      <td>jasongio meh p thanks head concerned another a...</td>\n",
       "    </tr>\n",
       "    <tr>\n",
       "      <th>4</th>\n",
       "      <td>rudhoeenglish isi account pretending kurdish a...</td>\n",
       "    </tr>\n",
       "  </tbody>\n",
       "</table>\n",
       "</div>"
      ],
      "text/plain": [
       "                                          tweet_text\n",
       "0             word katandandre food crapilicious mkr\n",
       "1  aussietv white mkr theblock imacelebrityau tod...\n",
       "2     xochitlsuckkks classy whore red velvet cupcake\n",
       "3  jasongio meh p thanks head concerned another a...\n",
       "4  rudhoeenglish isi account pretending kurdish a..."
      ]
     },
     "execution_count": 206,
     "metadata": {},
     "output_type": "execute_result"
    }
   ],
   "source": [
    "X = pd.DataFrame(X_pp, columns = ['tweet_text'])\n",
    "X.head()"
   ]
  },
  {
   "cell_type": "code",
   "execution_count": 207,
   "id": "bb6f0bad",
   "metadata": {},
   "outputs": [
    {
     "name": "stdout",
     "output_type": "stream",
     "text": [
      "word katandandre food crapilicious mkr\n",
      "aussietv white mkr theblock imacelebrityau today sunrise studio10 neighbour wonderlandten etc\n"
     ]
    }
   ],
   "source": [
    "print(X['tweet_text'].iloc[0])\n",
    "print(X['tweet_text'].iloc[1])"
   ]
  },
  {
   "cell_type": "markdown",
   "id": "7b5561d4",
   "metadata": {},
   "source": [
    "### Векторизация:"
   ]
  },
  {
   "cell_type": "markdown",
   "id": "5217651e",
   "metadata": {},
   "source": [
    "Векторизация – преобразование входных данных из их исходного формата в векторы действительных чисел, которые понятны моделям машинного обучения.\n",
    "\n",
    "**TfidfVectorizer**\n",
    "\n",
    "Term Frequency-Inverse Document Frequency (TF-IDF) — это один из наиболее распространенных методов векторизации текстовых данных. Данный метод помогает найти ключевые слова и определить, какие слова имеют наибольшую значимость для текста в контексте всего набора текстов.\n",
    "\n",
    "TF (Term Frequency) - частота термина, которая обозначает, насколько часто определенное слово появляется в данном тексте. \n",
    "\n",
    "IDF (Inverse Document Frequency) - обратная частота документа, которая измеряет, насколько уникальным слово является во всем наборе текстов. \n",
    "\n",
    "**Формула вычисления TF-IDF**\n",
    "\n",
    "$$ TF-IDF(t, d) = TF(t, d) \\cdot IDF(t), $$\n",
    "\n",
    "где \n",
    "\n",
    "- $TF(t, d)$ - частота термина для слова t в тексте d; \n",
    "\n",
    "- $IDF(t)$ - обратная частота документа для слова t."
   ]
  },
  {
   "cell_type": "markdown",
   "id": "d9c41697",
   "metadata": {},
   "source": [
    "**Пример работы векторизатора:**"
   ]
  },
  {
   "cell_type": "code",
   "execution_count": 208,
   "id": "05a04368",
   "metadata": {},
   "outputs": [
    {
     "data": {
      "text/plain": [
       "<46953x57128 sparse matrix of type '<class 'numpy.float64'>'\n",
       "\twith 594497 stored elements in Compressed Sparse Row format>"
      ]
     },
     "execution_count": 208,
     "metadata": {},
     "output_type": "execute_result"
    }
   ],
   "source": [
    "vect = TfidfVectorizer()\n",
    "X_vect = vect.fit_transform(X['tweet_text'].values)\n",
    "X_vect"
   ]
  },
  {
   "cell_type": "code",
   "execution_count": 209,
   "id": "f701aea9",
   "metadata": {},
   "outputs": [
    {
     "data": {
      "text/plain": [
       "matrix([[0., 0., 0., ..., 0., 0., 0.]])"
      ]
     },
     "execution_count": 209,
     "metadata": {},
     "output_type": "execute_result"
    }
   ],
   "source": [
    "X_vect[0].todense()"
   ]
  },
  {
   "cell_type": "code",
   "execution_count": 210,
   "id": "28249123",
   "metadata": {},
   "outputs": [
    {
     "data": {
      "text/plain": [
       "0       \n",
       "0.000000    57123\n",
       "0.237473        1\n",
       "0.303183        1\n",
       "0.408353        1\n",
       "0.491760        1\n",
       "0.665662        1\n",
       "Name: count, dtype: int64"
      ]
     },
     "execution_count": 210,
     "metadata": {},
     "output_type": "execute_result"
    }
   ],
   "source": [
    "pd.DataFrame(X_vect[0].todense()).T.value_counts()"
   ]
  },
  {
   "cell_type": "markdown",
   "id": "040fdb17",
   "metadata": {},
   "source": [
    "В дальнейшем векторизация будет применяться с помощью Pipeline."
   ]
  },
  {
   "cell_type": "markdown",
   "id": "5b89c1e8",
   "metadata": {},
   "source": [
    "## Описательный анализ \n",
    "\n",
    "(№4 и №11 (визуализация) методических рекомендаций) "
   ]
  },
  {
   "cell_type": "code",
   "execution_count": 211,
   "id": "654c5f61",
   "metadata": {},
   "outputs": [
    {
     "data": {
      "text/html": [
       "<div>\n",
       "<style scoped>\n",
       "    .dataframe tbody tr th:only-of-type {\n",
       "        vertical-align: middle;\n",
       "    }\n",
       "\n",
       "    .dataframe tbody tr th {\n",
       "        vertical-align: top;\n",
       "    }\n",
       "\n",
       "    .dataframe thead th {\n",
       "        text-align: right;\n",
       "    }\n",
       "</style>\n",
       "<table border=\"1\" class=\"dataframe\">\n",
       "  <thead>\n",
       "    <tr style=\"text-align: right;\">\n",
       "      <th></th>\n",
       "      <th>tweet_text</th>\n",
       "      <th>cyberbullying_type</th>\n",
       "      <th>length</th>\n",
       "    </tr>\n",
       "  </thead>\n",
       "  <tbody>\n",
       "    <tr>\n",
       "      <th>0</th>\n",
       "      <td>In other words #katandandre, your food was cra...</td>\n",
       "      <td>not_cyberbullying</td>\n",
       "      <td>61</td>\n",
       "    </tr>\n",
       "    <tr>\n",
       "      <th>1</th>\n",
       "      <td>Why is #aussietv so white? #MKR #theblock #ImA...</td>\n",
       "      <td>not_cyberbullying</td>\n",
       "      <td>115</td>\n",
       "    </tr>\n",
       "    <tr>\n",
       "      <th>2</th>\n",
       "      <td>@XochitlSuckkks a classy whore? Or more red ve...</td>\n",
       "      <td>not_cyberbullying</td>\n",
       "      <td>60</td>\n",
       "    </tr>\n",
       "    <tr>\n",
       "      <th>3</th>\n",
       "      <td>@Jason_Gio meh. :P  thanks for the heads up, b...</td>\n",
       "      <td>not_cyberbullying</td>\n",
       "      <td>103</td>\n",
       "    </tr>\n",
       "    <tr>\n",
       "      <th>4</th>\n",
       "      <td>@RudhoeEnglish This is an ISIS account pretend...</td>\n",
       "      <td>not_cyberbullying</td>\n",
       "      <td>103</td>\n",
       "    </tr>\n",
       "  </tbody>\n",
       "</table>\n",
       "</div>"
      ],
      "text/plain": [
       "                                          tweet_text cyberbullying_type  \\\n",
       "0  In other words #katandandre, your food was cra...  not_cyberbullying   \n",
       "1  Why is #aussietv so white? #MKR #theblock #ImA...  not_cyberbullying   \n",
       "2  @XochitlSuckkks a classy whore? Or more red ve...  not_cyberbullying   \n",
       "3  @Jason_Gio meh. :P  thanks for the heads up, b...  not_cyberbullying   \n",
       "4  @RudhoeEnglish This is an ISIS account pretend...  not_cyberbullying   \n",
       "\n",
       "   length  \n",
       "0      61  \n",
       "1     115  \n",
       "2      60  \n",
       "3     103  \n",
       "4     103  "
      ]
     },
     "execution_count": 211,
     "metadata": {},
     "output_type": "execute_result"
    }
   ],
   "source": [
    "data['length'] = data['tweet_text'].str.len()\n",
    "data.head()"
   ]
  },
  {
   "cell_type": "code",
   "execution_count": 212,
   "id": "bd339205",
   "metadata": {},
   "outputs": [
    {
     "data": {
      "image/png": "[encoded data removed]",
      "text/plain": [
       "<Figure size 800x600 with 1 Axes>"
      ]
     },
     "metadata": {},
     "output_type": "display_data"
    }
   ],
   "source": [
    "fig, ax = plt.subplots(figsize = (8, 6))\n",
    "plt.hist(data['length'], bins = 50)\n",
    "ax.set(title = 'Гистограмма распределения длин твитов', xlabel = 'Length')\n",
    "plt.show()"
   ]
  },
  {
   "cell_type": "markdown",
   "id": "9f956eb5",
   "metadata": {},
   "source": [
    "> Больше всего твитов имеют длину примерно 140 символов."
   ]
  },
  {
   "cell_type": "code",
   "execution_count": 213,
   "id": "221926b2",
   "metadata": {},
   "outputs": [
    {
     "data": {
      "text/html": [
       "<div>\n",
       "<style scoped>\n",
       "    .dataframe tbody tr th:only-of-type {\n",
       "        vertical-align: middle;\n",
       "    }\n",
       "\n",
       "    .dataframe tbody tr th {\n",
       "        vertical-align: top;\n",
       "    }\n",
       "\n",
       "    .dataframe thead th {\n",
       "        text-align: right;\n",
       "    }\n",
       "</style>\n",
       "<table border=\"1\" class=\"dataframe\">\n",
       "  <thead>\n",
       "    <tr style=\"text-align: right;\">\n",
       "      <th></th>\n",
       "      <th>tweet_text</th>\n",
       "      <th>cyberbullying_type</th>\n",
       "      <th>length</th>\n",
       "      <th>mean_word_length</th>\n",
       "    </tr>\n",
       "  </thead>\n",
       "  <tbody>\n",
       "    <tr>\n",
       "      <th>0</th>\n",
       "      <td>In other words #katandandre, your food was cra...</td>\n",
       "      <td>not_cyberbullying</td>\n",
       "      <td>61</td>\n",
       "      <td>5.888889</td>\n",
       "    </tr>\n",
       "    <tr>\n",
       "      <th>1</th>\n",
       "      <td>Why is #aussietv so white? #MKR #theblock #ImA...</td>\n",
       "      <td>not_cyberbullying</td>\n",
       "      <td>115</td>\n",
       "      <td>7.285714</td>\n",
       "    </tr>\n",
       "    <tr>\n",
       "      <th>2</th>\n",
       "      <td>@XochitlSuckkks a classy whore? Or more red ve...</td>\n",
       "      <td>not_cyberbullying</td>\n",
       "      <td>60</td>\n",
       "      <td>5.777778</td>\n",
       "    </tr>\n",
       "    <tr>\n",
       "      <th>3</th>\n",
       "      <td>@Jason_Gio meh. :P  thanks for the heads up, b...</td>\n",
       "      <td>not_cyberbullying</td>\n",
       "      <td>103</td>\n",
       "      <td>4.722222</td>\n",
       "    </tr>\n",
       "    <tr>\n",
       "      <th>4</th>\n",
       "      <td>@RudhoeEnglish This is an ISIS account pretend...</td>\n",
       "      <td>not_cyberbullying</td>\n",
       "      <td>103</td>\n",
       "      <td>4.722222</td>\n",
       "    </tr>\n",
       "  </tbody>\n",
       "</table>\n",
       "</div>"
      ],
      "text/plain": [
       "                                          tweet_text cyberbullying_type  \\\n",
       "0  In other words #katandandre, your food was cra...  not_cyberbullying   \n",
       "1  Why is #aussietv so white? #MKR #theblock #ImA...  not_cyberbullying   \n",
       "2  @XochitlSuckkks a classy whore? Or more red ve...  not_cyberbullying   \n",
       "3  @Jason_Gio meh. :P  thanks for the heads up, b...  not_cyberbullying   \n",
       "4  @RudhoeEnglish This is an ISIS account pretend...  not_cyberbullying   \n",
       "\n",
       "   length  mean_word_length  \n",
       "0      61          5.888889  \n",
       "1     115          7.285714  \n",
       "2      60          5.777778  \n",
       "3     103          4.722222  \n",
       "4     103          4.722222  "
      ]
     },
     "execution_count": 213,
     "metadata": {},
     "output_type": "execute_result"
    }
   ],
   "source": [
    "data['mean_word_length'] = data['tweet_text'].map(lambda tw: np.mean([len(word) for word in tw.split()]))\n",
    "data.head()"
   ]
  },
  {
   "cell_type": "code",
   "execution_count": 214,
   "id": "338d0c90",
   "metadata": {},
   "outputs": [
    {
     "data": {
      "image/png": "[encoded data removed]",
      "text/plain": [
       "<Figure size 800x600 with 1 Axes>"
      ]
     },
     "metadata": {},
     "output_type": "display_data"
    }
   ],
   "source": [
    "fig, ax = plt.subplots(figsize = (8, 6))\n",
    "plt.hist(data['mean_word_length'], bins = 100)\n",
    "ax.set(title = 'Гистограмма распределения средних длин слов', xlabel = 'Length')\n",
    "plt.show()"
   ]
  },
  {
   "cell_type": "markdown",
   "id": "3c06232f",
   "metadata": {},
   "source": [
    "> Больще всего твитов имеют среднюю длину слова примерно 5 символов."
   ]
  },
  {
   "cell_type": "markdown",
   "id": "51938cda",
   "metadata": {},
   "source": [
    "Рассмотрим самые часто встречающиеся слова в датасете:"
   ]
  },
  {
   "cell_type": "code",
   "execution_count": 215,
   "id": "9e1135a2",
   "metadata": {},
   "outputs": [],
   "source": [
    "corpus = []\n",
    "for tweet in X['tweet_text'].values:\n",
    "    corpus += tweet.split()"
   ]
  },
  {
   "cell_type": "code",
   "execution_count": 216,
   "id": "7f2ed10f",
   "metadata": {},
   "outputs": [],
   "source": [
    "most_common = pd.DataFrame(Counter(corpus).most_common(10))"
   ]
  },
  {
   "cell_type": "code",
   "execution_count": 217,
   "id": "db0f6b94",
   "metadata": {},
   "outputs": [
    {
     "data": {
      "image/png": "[encoded data removed]",
      "text/plain": [
       "<Figure size 800x600 with 1 Axes>"
      ]
     },
     "metadata": {},
     "output_type": "display_data"
    }
   ],
   "source": [
    "fig, ax = plt.subplots(figsize = (8, 6))\n",
    "sns.barplot(x = most_common.iloc[:, 1], y = most_common.iloc[:, 0])\n",
    "ax.set(title = 'Топ-10 самых часто встречающихся слов', xlabel = 'Frequancy', ylabel = 'Word')\n",
    "plt.show()"
   ]
  },
  {
   "cell_type": "markdown",
   "id": "f493d63e",
   "metadata": {},
   "source": [
    "## Деление данных \n",
    "\n",
    "(№6 методических рекомендаций)"
   ]
  },
  {
   "cell_type": "markdown",
   "id": "9d7323b4",
   "metadata": {},
   "source": [
    "Разделим выборку случайным образом в соотношении 80%/20%, где 80% строк выделяется для тренировочной выборки, а 20% - для тестовой.\n",
    "\n",
    "В данном случае хорошо подходит именно случайное разделение, потому что данные достаточно однородны, нет дисбаланса классов и отсутствует временная структура."
   ]
  },
  {
   "cell_type": "code",
   "execution_count": 218,
   "id": "80c0f68f",
   "metadata": {},
   "outputs": [],
   "source": [
    "X_train, X_test, y_train, y_test = train_test_split(\n",
    "    X, y,\n",
    "    test_size = 0.2,\n",
    "    random_state = 52)"
   ]
  },
  {
   "cell_type": "markdown",
   "id": "0c3b728a",
   "metadata": {},
   "source": [
    "**Количество элементов каждого из классов в обучающей и тестовой выборках:**"
   ]
  },
  {
   "cell_type": "code",
   "execution_count": 219,
   "id": "ad4c4dc1",
   "metadata": {},
   "outputs": [
    {
     "data": {
      "text/html": [
       "<div>\n",
       "<style scoped>\n",
       "    .dataframe tbody tr th:only-of-type {\n",
       "        vertical-align: middle;\n",
       "    }\n",
       "\n",
       "    .dataframe tbody tr th {\n",
       "        vertical-align: top;\n",
       "    }\n",
       "\n",
       "    .dataframe thead th {\n",
       "        text-align: right;\n",
       "    }\n",
       "</style>\n",
       "<table border=\"1\" class=\"dataframe\">\n",
       "  <thead>\n",
       "    <tr style=\"text-align: right;\">\n",
       "      <th></th>\n",
       "      <th>cyberbullying_type</th>\n",
       "      <th>train</th>\n",
       "      <th>test</th>\n",
       "    </tr>\n",
       "  </thead>\n",
       "  <tbody>\n",
       "    <tr>\n",
       "      <th>0</th>\n",
       "      <td>age</td>\n",
       "      <td>6322</td>\n",
       "      <td>1495</td>\n",
       "    </tr>\n",
       "    <tr>\n",
       "      <th>1</th>\n",
       "      <td>ethnicity</td>\n",
       "      <td>6252</td>\n",
       "      <td>1610</td>\n",
       "    </tr>\n",
       "    <tr>\n",
       "      <th>2</th>\n",
       "      <td>gender</td>\n",
       "      <td>6232</td>\n",
       "      <td>1605</td>\n",
       "    </tr>\n",
       "    <tr>\n",
       "      <th>3</th>\n",
       "      <td>not_cyberbullying</td>\n",
       "      <td>6370</td>\n",
       "      <td>1564</td>\n",
       "    </tr>\n",
       "    <tr>\n",
       "      <th>4</th>\n",
       "      <td>other_cyberbullying</td>\n",
       "      <td>6250</td>\n",
       "      <td>1566</td>\n",
       "    </tr>\n",
       "    <tr>\n",
       "      <th>5</th>\n",
       "      <td>religion</td>\n",
       "      <td>6136</td>\n",
       "      <td>1551</td>\n",
       "    </tr>\n",
       "  </tbody>\n",
       "</table>\n",
       "</div>"
      ],
      "text/plain": [
       "    cyberbullying_type train  test\n",
       "0                  age  6322  1495\n",
       "1            ethnicity  6252  1610\n",
       "2               gender  6232  1605\n",
       "3    not_cyberbullying  6370  1564\n",
       "4  other_cyberbullying  6250  1566\n",
       "5             religion  6136  1551"
      ]
     },
     "execution_count": 219,
     "metadata": {},
     "output_type": "execute_result"
    }
   ],
   "source": [
    "p = list(np.unique(y_train, return_counts=True))\n",
    "p.append(np.unique(y_test, return_counts=True)[1])\n",
    "pd.DataFrame(np.array(p).T, columns = ['cyberbullying_type', 'train', 'test'])"
   ]
  },
  {
   "cell_type": "markdown",
   "id": "1b5588ec",
   "metadata": {},
   "source": [
    "## Метрики качества модели "
   ]
  },
  {
   "cell_type": "markdown",
   "id": "b9ff3830",
   "metadata": {},
   "source": [
    "Для оценки качества модели классификации применяют следующие метрики:\n",
    "\n",
    "1. Матрица ошибок (Сonfusion matrix) - матрица, которая отображает количество правильно и неправильно распознанных объектов каждого класса. Дает наглядно понять, как хорошо работает модель.\n",
    "\n",
    "2. Меткость (Accuracy) - доля правильно предсказанных классов. Характеризует качество модели, но зачастую используется в сочетании с другими метриками. Данная метрика часто используется в задачах классификации, когда все классы равноправны и одинаково важны, и нет явного дисбаланса классов.\n",
    "\n",
    "3. Точность (Precision) -это метрика оценки качества модели в задачах классификации, которая измеряет долю правильно предсказанных положительных классов относительно всех объектов, которые модель предсказала как положительные. Эта метрика особенно полезна в случаях, когда наблюдается дисбаланс в количестве объектов различных классов.\n",
    "\n",
    "4. Полнота (Recall) -  это отношение количества правильно определенных положительных объектов к общему числу действительно положительных объектов. Наиболее часто используеься когда присутствует дисбаланс классов.\n",
    "\n",
    "5. F1-мера (F1-score) - взвешенное гармоническое среднее полноты и точности. \n",
    "\n",
    "6. Площадь под ROC-кривой (Area under ROC-curve, AUC-ROC) - это метрика оценивает баланс между частотой истинных и ложных положительных результатов при различных пороговых значениях классификации.\n",
    "\n",
    "7. Площадь под кривой полнота-точность (Area under precision-recall curve, AUC-PR) - это метрика предоставляет всестороннюю оценку работы модели на различных уровнях точности и полноты при различных порогах классификации. Используется, когда необходимо оценить эффективность модели классификации при различных компромиссах между precision и recall и выбрать оптимальное значение порога. Он особенно полезен, когда есть дисбаланс классов.\n"
   ]
  },
  {
   "cell_type": "markdown",
   "id": "98672ee1",
   "metadata": {},
   "source": [
    "Так как в датасете отсутствует дисбаланс классов, а также нет четкого приоритета классов, наиболее подходящей метрикой для оценки качества модели будет меткость (accuracy). На ее основе будет проводиться выбор модели. Остальные метрики будут вспомогательными, для более точного определения эффективности модели."
   ]
  },
  {
   "cell_type": "markdown",
   "id": "e4a60f7f",
   "metadata": {},
   "source": [
    "## Обучение моделей \n",
    "\n",
    "(№7 и №11 (визуализация) методических рекомендаций)"
   ]
  },
  {
   "cell_type": "markdown",
   "id": "58ea5788",
   "metadata": {},
   "source": [
    "Проведу сравнение нескольких моделей с помощь кросс-валидации. Для сравнения буду использовать следующие модели: \n",
    "\n",
    "1. Логистическая регрессия (LogisticRegression);\n",
    "\n",
    "2. Классификатор k ближайших соседей (KNeighborsClassifier);\n",
    "\n",
    "3. Мультиномиальный Наивный Байес (MultinomialNB); \n",
    "\n",
    "4. Метод опорных векторов без ядра (SVC(kernel = \"linear\")); \n",
    "\n",
    "5. Метод опорных векторов с гауссовским ядром (SVC(kernel = \"rbf\")); \n",
    "\n",
    "6. Случайный лес (RandomForestClassifier);\n",
    "\n",
    "7. Градиентный бустинг (GradientBoostingClassifier); \n",
    "\n",
    "8. Стохастический градиентный спуск (SGDClassifier);."
   ]
  },
  {
   "cell_type": "code",
   "execution_count": 220,
   "id": "5d3be4ab",
   "metadata": {},
   "outputs": [],
   "source": [
    "classifiers = {\"Logistic Regression\": LogisticRegression(max_iter = 1000),\n",
    "               \"KNN\": KNeighborsClassifier(),\n",
    "               \"Multinomial Naive Bayes\": MultinomialNB(),\n",
    "               \"Linear SVM\": SVC(kernel = \"linear\"),\n",
    "               \"RBF SVM\": SVC(kernel = \"rbf\"),\n",
    "               \"Random Forest\": RandomForestClassifier(),\n",
    "               \"Gradient Boosting\": GradientBoostingClassifier(),\n",
    "               \"SGD\": SGDClassifier()}"
   ]
  },
  {
   "cell_type": "code",
   "execution_count": 221,
   "id": "777d3afd",
   "metadata": {},
   "outputs": [],
   "source": [
    "X_train_1 = X_train['tweet_text'].values\n",
    "y_train_1 = y_train['cyberbullying_type'].values"
   ]
  },
  {
   "cell_type": "code",
   "execution_count": 222,
   "id": "6f536ce3",
   "metadata": {},
   "outputs": [],
   "source": [
    "scores = {}\n",
    "for name, clf in list(classifiers.items()):\n",
    "    model = Pipeline([('tfidf', TfidfVectorizer()), (name, clf)])\n",
    "    cv_results = cross_validate(model, \n",
    "                                X_train_1, y_train_1, \n",
    "                                cv = 5, \n",
    "                                scoring = 'accuracy',\n",
    "                                return_train_score = True)\n",
    "    scores[name] = [cv_results['test_score'].mean(), \n",
    "                    cv_results['train_score'].mean(), \n",
    "                    cv_results['fit_time'].mean()]"
   ]
  },
  {
   "cell_type": "code",
   "execution_count": 223,
   "id": "ca0f8dd0",
   "metadata": {},
   "outputs": [
    {
     "data": {
      "text/html": [
       "<div>\n",
       "<style scoped>\n",
       "    .dataframe tbody tr th:only-of-type {\n",
       "        vertical-align: middle;\n",
       "    }\n",
       "\n",
       "    .dataframe tbody tr th {\n",
       "        vertical-align: top;\n",
       "    }\n",
       "\n",
       "    .dataframe thead th {\n",
       "        text-align: right;\n",
       "    }\n",
       "</style>\n",
       "<table border=\"1\" class=\"dataframe\">\n",
       "  <thead>\n",
       "    <tr style=\"text-align: right;\">\n",
       "      <th></th>\n",
       "      <th>test_score</th>\n",
       "      <th>train_score</th>\n",
       "      <th>fit_time</th>\n",
       "    </tr>\n",
       "  </thead>\n",
       "  <tbody>\n",
       "    <tr>\n",
       "      <th>Linear SVM</th>\n",
       "      <td>0.834913</td>\n",
       "      <td>0.936066</td>\n",
       "      <td>39.012356</td>\n",
       "    </tr>\n",
       "    <tr>\n",
       "      <th>SGD</th>\n",
       "      <td>0.831638</td>\n",
       "      <td>0.906135</td>\n",
       "      <td>0.515078</td>\n",
       "    </tr>\n",
       "    <tr>\n",
       "      <th>RBF SVM</th>\n",
       "      <td>0.827885</td>\n",
       "      <td>0.962242</td>\n",
       "      <td>78.920629</td>\n",
       "    </tr>\n",
       "    <tr>\n",
       "      <th>Gradient Boosting</th>\n",
       "      <td>0.827459</td>\n",
       "      <td>0.842953</td>\n",
       "      <td>108.820924</td>\n",
       "    </tr>\n",
       "    <tr>\n",
       "      <th>Logistic Regression</th>\n",
       "      <td>0.825808</td>\n",
       "      <td>0.914016</td>\n",
       "      <td>8.160660</td>\n",
       "    </tr>\n",
       "    <tr>\n",
       "      <th>Random Forest</th>\n",
       "      <td>0.825116</td>\n",
       "      <td>0.977078</td>\n",
       "      <td>235.589081</td>\n",
       "    </tr>\n",
       "    <tr>\n",
       "      <th>Multinomial Naive Bayes</th>\n",
       "      <td>0.759065</td>\n",
       "      <td>0.863526</td>\n",
       "      <td>0.448621</td>\n",
       "    </tr>\n",
       "    <tr>\n",
       "      <th>KNN</th>\n",
       "      <td>0.249853</td>\n",
       "      <td>0.247644</td>\n",
       "      <td>0.442107</td>\n",
       "    </tr>\n",
       "  </tbody>\n",
       "</table>\n",
       "</div>"
      ],
      "text/plain": [
       "                         test_score  train_score    fit_time\n",
       "Linear SVM                 0.834913     0.936066   39.012356\n",
       "SGD                        0.831638     0.906135    0.515078\n",
       "RBF SVM                    0.827885     0.962242   78.920629\n",
       "Gradient Boosting          0.827459     0.842953  108.820924\n",
       "Logistic Regression        0.825808     0.914016    8.160660\n",
       "Random Forest              0.825116     0.977078  235.589081\n",
       "Multinomial Naive Bayes    0.759065     0.863526    0.448621\n",
       "KNN                        0.249853     0.247644    0.442107"
      ]
     },
     "execution_count": 223,
     "metadata": {},
     "output_type": "execute_result"
    }
   ],
   "source": [
    "df = pd.DataFrame(scores, index = ['test_score', 'train_score', 'fit_time']).T\n",
    "df.sort_values(by = ['test_score'], ascending = False, inplace = True)\n",
    "df"
   ]
  },
  {
   "cell_type": "markdown",
   "id": "f0deb448",
   "metadata": {},
   "source": [
    "Для выбора наилучшей модели рассмотрим зависимость целевой метрики качества от времени обучения."
   ]
  },
  {
   "cell_type": "code",
   "execution_count": 224,
   "id": "05da3afe",
   "metadata": {
    "scrolled": false
   },
   "outputs": [
    {
     "data": {
      "image/png": "[encoded data removed]",
      "text/plain": [
       "<Figure size 1500x600 with 2 Axes>"
      ]
     },
     "metadata": {},
     "output_type": "display_data"
    }
   ],
   "source": [
    "scatter_y = df.test_score.values\n",
    "scatter_y_1 = df.train_score.values\n",
    "scatter_x = df.fit_time.values\n",
    "labels = df.index\n",
    "\n",
    "fig, ax = plt.subplots(1, 2, figsize = (15, 6))\n",
    "for i, l in enumerate(labels):\n",
    "    ax[0].scatter(scatter_x[i], scatter_y[i], label = l, s = 100)\n",
    "\n",
    "    ax[0].set(title = 'Зависимость test_score от времени обучения', \n",
    "           xlabel = 'Время обучения',\n",
    "           ylabel = 'Accuracy')\n",
    "    \n",
    "    ax[1].scatter(scatter_x[i], scatter_y_1[i], label = l, s = 100)\n",
    "\n",
    "    ax[1].set(title = 'Зависимость train_score от времени обучения', \n",
    "           xlabel = 'Время обучения',\n",
    "           ylabel = 'Accuracy')\n",
    "    \n",
    "    ax[1].legend()\n",
    "    ax[0].legend()\n",
    "    \n",
    "plt.show()"
   ]
  },
  {
   "cell_type": "markdown",
   "id": "d36127f0",
   "metadata": {},
   "source": [
    "> В результате кросс-валидации и оценки графиков получили, что модель Linear SVM имеет самую высокую метрику accuracy, но, одновременно с этим, она относительно долго обучается. Именно поэтому будет целесообразно использовать SGDClassifier, или стохастический градиентный спуск, так как он является оптимизатором для семейства линейных моделей и при гиперпараметрах по умолчанию выполняет ту же задачу оптимизации, что и Linear SVM, но быстрее."
   ]
  },
  {
   "cell_type": "markdown",
   "id": "ad8a216a",
   "metadata": {},
   "source": [
    "## Подбор гиперпараметров и улучшение модели\n",
    "\n",
    "(№8, №9 и №11 (визуализация) методических рекомендаций)"
   ]
  },
  {
   "cell_type": "markdown",
   "id": "822cc112",
   "metadata": {},
   "source": [
    "SGDClassifier (стохастический градиентный спуск для классификации) — это модель машинного обучения, которая использует метод стохастического градиентного спуска для обучения линейных моделей классификации. SGD успешно применяется для решения крупномасштабных и разреженных задач машинного обучения, часто встречающихся при классификации текста и обработке естественного языка.\n",
    "\n",
    "Принцип работы:\n",
    "\n",
    "1. В начале процесса обучения инициализируются параметры модели, такие как веса и смещение (bias). Обычно они выбираются случайным образом или используются нулевые значения.\n",
    "\n",
    "2. На каждой итерации обучения выбирается случайный образец из обучающего набора данных.\n",
    "\n",
    "3. Для выбранного образца вычисляется градиент функции потерь по отношению к параметрам модели. Это показывает направление, в котором нужно изменить параметры модели, чтобы уменьшить функцию потерь.\n",
    "\n",
    "4. После вычисления градиента происходит обновление параметров модели в направлении, противоположном градиенту, с учетом скорости обучения (learning rate). Это шаг оптимизации, который позволяет приблизиться к оптимальным значениям параметров.\n",
    "\n",
    "5. Данный процесс повторяется для каждого образца в обучающем наборе данных или до тех пор, пока не будет достигнуто условие остановки (например, заданное количество итераций или достижение определенного уровня точности).\n",
    "\n",
    "SGDClassifier хорошо подходит для больших наборов данных, так как он работает по одному случайному образцу за раз, что позволяет эффективно обучать модель даже на больших объемах данных. Он также может использоваться с различными функциями потерь."
   ]
  },
  {
   "cell_type": "markdown",
   "id": "ca7c3012",
   "metadata": {},
   "source": [
    "### Диагностика модели:"
   ]
  },
  {
   "cell_type": "code",
   "execution_count": 225,
   "id": "45139539",
   "metadata": {},
   "outputs": [
    {
     "data": {
      "image/png": "[encoded data removed]",
      "text/plain": [
       "<Figure size 800x550 with 1 Axes>"
      ]
     },
     "metadata": {},
     "output_type": "display_data"
    }
   ],
   "source": [
    "model = Pipeline([('tfidf', TfidfVectorizer()), ('sgd', SGDClassifier())])\n",
    "visualizer = LearningCurve(\n",
    "    model, train_sizes=np.linspace(0.1, 1.0, 10)\n",
    ").fit(X_train_1, y_train_1).show() "
   ]
  },
  {
   "cell_type": "markdown",
   "id": "023394fe",
   "metadata": {},
   "source": [
    "> Кривая обучения показала, что имеет место переобучение."
   ]
  },
  {
   "cell_type": "markdown",
   "id": "073c9726",
   "metadata": {},
   "source": [
    "### Подбор гиперпараметров и регуляризация:"
   ]
  },
  {
   "cell_type": "markdown",
   "id": "41265882",
   "metadata": {},
   "source": [
    "**Гиперпараметры TfidfVectorizer:**\n",
    "\n",
    "- **max_df** (float or int), по умолчанию = 1.0\n",
    "\n",
    "   При составлении словаря игнорирует термины, частота использования которых в документах строго превышает заданный порог (стоп-слова, относящиеся к конкретному корпусу). Если значение float находится в диапазоне [0.0, 1.0], параметр представляет долю документов, целое абсолютное число.\n",
    "   \n",
    "- **min_df** (float or int), по умолчанию = 1\n",
    "\n",
    "   При составлении словаря игнорирует термины, частота использования которых в документах строго ниже заданного порогового значения. В литературе это значение также называется пороговым значением. Если значение float находится в диапазоне [0.0, 1.0], параметр представляет долю документов, целое абсолютное число.\n",
    "   \n",
    "- **norm** {‘l1’, ‘l2’} or None, по умолчанию = ’l2’\n",
    "\n",
    "   Каждая выходная строка будет иметь единичную норму, либо:\n",
    "\n",
    "  ‘l2’: Сумма квадратов элементов вектора равна 1. Косинусное сходство между двумя векторами является их скалярным произведением, когда была применена норма l2.\n",
    "\n",
    "  ‘l1’: Сумма абсолютных значений элементов вектора равна 1.\n",
    "\n",
    "  None: Нормализация отсутствует.\n",
    "\n",
    "- **ngram_range** (tuple) (min_n, max_n), по умолчанию = (1, 1)\n",
    "\n",
    "    Нижняя и верхняя границы диапазона n-значений для различных n-граммов, которые необходимо извлечь. Будут использоваться все значения n, такие, что min_n <= n <= max_n. Например, значение ngram_range, равное (1, 1), означает только униграммы, (1, 2) означает униграммы и биграммы, а (2, 2) означает только биграммы. Применяется только в том случае, если анализатор недоступен для вызова.\n",
    "\n",
    "\n",
    "**Гиперпараметры SGDClassifier():**\n",
    "\n",
    "\n",
    "- **loss** {‘hinge’, ‘log_loss’, ‘modified_huber’, ‘squared_hinge’, ‘perceptron’}, по умолчанию = ’hinge’\n",
    "    \n",
    "    Какую функцию потерь использовать:\n",
    "\n",
    "  ‘hinge’ дает linear SVM.\n",
    "\n",
    "  ‘log_loss’ дает логистическую регрессию.\n",
    "\n",
    "  ‘modified_huber’ обеспечивает устойчивость к выбросам, а также оценку вероятности.\n",
    "\n",
    "  ‘squared_hinge’ похожа на hinge, но имеет квадратичный штраф.\n",
    "\n",
    "  ‘perceptron’ это линейная функция потерь, используется в алгоритмах перцептрона.\n",
    "\n",
    "\n",
    "- **penalty** {‘l2’, ‘l1’, ‘elasticnet’, None}, по умолчанию = ’l2’\n",
    "\n",
    "    Используемый штраф (термин регуляризации). По умолчанию используется значение ‘l2’, которое является стандартным регуляризатором для линейных SVM-моделей. \"l1\" и \"elasticnet\" могут привести к разреженности модели (выбору функций), недостижимой при использовании \"l2\". Штраф не начисляется, если установлено значение \"Нет\".\n",
    "\n",
    "- **alpha** (float), по умолчанию = 0.0001\n",
    "\n",
    "    Константа, умножающая коэффициент регуляризации. Чем выше значение, тем сильнее регуляризация. Также используется для вычисления скорости обучения, если для параметра learning_rate установлено значение ‘оптимальный’. Значения должны находиться в диапазоне [0.0, inf).\n",
    "\n",
    "- **l1_ratio** (float), по умолчанию = 0.15\n",
    "\n",
    "    Параметр смешивания Elastic Net, где 0 <= l1_ratio <= 1. l1_ratio=0 соответствует штрафу L2, l1_ratio=1 - L1. Используется только в том случае, если штрафом является ‘elasticnet’. Значения должны находиться в диапазоне [0.0, 1.0].\n",
    "\n",
    "\n",
    "- **fit_intercept** (bool), по умолчанию = True\n",
    "\n",
    "    Следует ли оценивать intercept или нет. Если значение равно False, предполагается, что данные уже отцентрированы.\n",
    "\n",
    "\n",
    "- **max_iter** (int), по умолчанию = 1000\n",
    "\n",
    "    Максимальное количество проходов по обучающим данным (epochs). Значения должны быть в диапазоне [1, inf).\n",
    "\n",
    "\n",
    "- **tol** (float or None), по умолчанию = 1e-3\n",
    "\n",
    "    Критерий остановки. Если он не равен None, то обучение будет остановлено, когда (loss > best_loss - tol) для n_iter_no_change последовательных периодов. Сходимость проверяется на потери при обучении или при проверке, в зависимости от параметра early_stopping. Значения должны находиться в диапазоне [0.0, inf).\n",
    "\n",
    "\n",
    "- **learning_rate** (str), по умолчанию = ’optimal’\n",
    "\n",
    "    График темпов обучения:\n",
    "\n",
    "  ‘constant’: eta = eta0\n",
    "\n",
    "  ‘optimal’: eta = 1.0 / (alpha * (t + t0)), где t0 выбирается с помощью эвристики, предложенной Леоном Ботту.\n",
    "\n",
    "  invscaling’: eta = eta0 / pow(t, power_t)\n",
    "\n",
    "  ‘adaptive’: eta = eta0, при условии, что время обучения продолжает сокращаться. Каждый раз, когда в течение последовательных периодов n_iter_no_change не удается уменьшить потери при обучении на tol или увеличить validation score на tol, если значение early_stopping равно True, текущая learning_rate делится на 5.\n",
    "\n",
    "\n",
    "- **eta0** (float), по умолчанию = 0.0\n",
    "\n",
    "    Начальная скорость обучения для \"constant\", \"invscaling\" или \"adaptive\". Значение по умолчанию равно 0.0, поскольку eta0 не используется по умолчанию в \"optimal\". Значения должны находиться в диапазоне [0.0, inf).\n",
    "\n",
    "\n"
   ]
  },
  {
   "cell_type": "markdown",
   "id": "4e24b176",
   "metadata": {},
   "source": [
    "> При подборе гиперпараметров будем использовать ngram_range для TfidfVectorizer и loss, penalty, alpha, max_iter для SGDClassifier."
   ]
  },
  {
   "cell_type": "code",
   "execution_count": 226,
   "id": "517f5dd0",
   "metadata": {},
   "outputs": [
    {
     "data": {
      "text/html": [
       "<style>#sk-container-id-3 {color: black;background-color: white;}#sk-container-id-3 pre{padding: 0;}#sk-container-id-3 div.sk-toggleable {background-color: white;}#sk-container-id-3 label.sk-toggleable__label {cursor: pointer;display: block;width: 100%;margin-bottom: 0;padding: 0.3em;box-sizing: border-box;text-align: center;}#sk-container-id-3 label.sk-toggleable__label-arrow:before {content: \"▸\";float: left;margin-right: 0.25em;color: #696969;}#sk-container-id-3 label.sk-toggleable__label-arrow:hover:before {color: black;}#sk-container-id-3 div.sk-estimator:hover label.sk-toggleable__label-arrow:before {color: black;}#sk-container-id-3 div.sk-toggleable__content {max-height: 0;max-width: 0;overflow: hidden;text-align: left;background-color: #f0f8ff;}#sk-container-id-3 div.sk-toggleable__content pre {margin: 0.2em;color: black;border-radius: 0.25em;background-color: #f0f8ff;}#sk-container-id-3 input.sk-toggleable__control:checked~div.sk-toggleable__content {max-height: 200px;max-width: 100%;overflow: auto;}#sk-container-id-3 input.sk-toggleable__control:checked~label.sk-toggleable__label-arrow:before {content: \"▾\";}#sk-container-id-3 div.sk-estimator input.sk-toggleable__control:checked~label.sk-toggleable__label {background-color: #d4ebff;}#sk-container-id-3 div.sk-label input.sk-toggleable__control:checked~label.sk-toggleable__label {background-color: #d4ebff;}#sk-container-id-3 input.sk-hidden--visually {border: 0;clip: rect(1px 1px 1px 1px);clip: rect(1px, 1px, 1px, 1px);height: 1px;margin: -1px;overflow: hidden;padding: 0;position: absolute;width: 1px;}#sk-container-id-3 div.sk-estimator {font-family: monospace;background-color: #f0f8ff;border: 1px dotted black;border-radius: 0.25em;box-sizing: border-box;margin-bottom: 0.5em;}#sk-container-id-3 div.sk-estimator:hover {background-color: #d4ebff;}#sk-container-id-3 div.sk-parallel-item::after {content: \"\";width: 100%;border-bottom: 1px solid gray;flex-grow: 1;}#sk-container-id-3 div.sk-label:hover label.sk-toggleable__label {background-color: #d4ebff;}#sk-container-id-3 div.sk-serial::before {content: \"\";position: absolute;border-left: 1px solid gray;box-sizing: border-box;top: 0;bottom: 0;left: 50%;z-index: 0;}#sk-container-id-3 div.sk-serial {display: flex;flex-direction: column;align-items: center;background-color: white;padding-right: 0.2em;padding-left: 0.2em;position: relative;}#sk-container-id-3 div.sk-item {position: relative;z-index: 1;}#sk-container-id-3 div.sk-parallel {display: flex;align-items: stretch;justify-content: center;background-color: white;position: relative;}#sk-container-id-3 div.sk-item::before, #sk-container-id-3 div.sk-parallel-item::before {content: \"\";position: absolute;border-left: 1px solid gray;box-sizing: border-box;top: 0;bottom: 0;left: 50%;z-index: -1;}#sk-container-id-3 div.sk-parallel-item {display: flex;flex-direction: column;z-index: 1;position: relative;background-color: white;}#sk-container-id-3 div.sk-parallel-item:first-child::after {align-self: flex-end;width: 50%;}#sk-container-id-3 div.sk-parallel-item:last-child::after {align-self: flex-start;width: 50%;}#sk-container-id-3 div.sk-parallel-item:only-child::after {width: 0;}#sk-container-id-3 div.sk-dashed-wrapped {border: 1px dashed gray;margin: 0 0.4em 0.5em 0.4em;box-sizing: border-box;padding-bottom: 0.4em;background-color: white;}#sk-container-id-3 div.sk-label label {font-family: monospace;font-weight: bold;display: inline-block;line-height: 1.2em;}#sk-container-id-3 div.sk-label-container {text-align: center;}#sk-container-id-3 div.sk-container {/* jupyter's `normalize.less` sets `[hidden] { display: none; }` but bootstrap.min.css set `[hidden] { display: none !important; }` so we also need the `!important` here to be able to override the default hidden behavior on the sphinx rendered scikit-learn.org. See: https://github.com/scikit-learn/scikit-learn/issues/21755 */display: inline-block !important;position: relative;}#sk-container-id-3 div.sk-text-repr-fallback {display: none;}</style><div id=\"sk-container-id-3\" class=\"sk-top-container\"><div class=\"sk-text-repr-fallback\"><pre>GridSearchCV(cv=5,\n",
       "             estimator=Pipeline(steps=[(&#x27;tfidf&#x27;, TfidfVectorizer()),\n",
       "                                       (&#x27;sgd&#x27;, SGDClassifier())]),\n",
       "             param_grid={&#x27;sgd__alpha&#x27;: [0.0001, 0.01, 1, 10],\n",
       "                         &#x27;sgd__loss&#x27;: [&#x27;hinge&#x27;, &#x27;log_loss&#x27;, &#x27;modified_huber&#x27;,\n",
       "                                       &#x27;perceptron&#x27;],\n",
       "                         &#x27;sgd__max_iter&#x27;: [500, 1000, 5000],\n",
       "                         &#x27;sgd__penalty&#x27;: [&#x27;l2&#x27;, &#x27;l1&#x27;, &#x27;elasticnet&#x27;, None],\n",
       "                         &#x27;tfidf__ngram_range&#x27;: [(1, 1), (1, 2)]},\n",
       "             return_train_score=True, scoring=&#x27;accuracy&#x27;)</pre><b>In a Jupyter environment, please rerun this cell to show the HTML representation or trust the notebook. <br />On GitHub, the HTML representation is unable to render, please try loading this page with nbviewer.org.</b></div><div class=\"sk-container\" hidden><div class=\"sk-item sk-dashed-wrapped\"><div class=\"sk-label-container\"><div class=\"sk-label sk-toggleable\"><input class=\"sk-toggleable__control sk-hidden--visually\" id=\"sk-estimator-id-8\" type=\"checkbox\" ><label for=\"sk-estimator-id-8\" class=\"sk-toggleable__label sk-toggleable__label-arrow\">GridSearchCV</label><div class=\"sk-toggleable__content\"><pre>GridSearchCV(cv=5,\n",
       "             estimator=Pipeline(steps=[(&#x27;tfidf&#x27;, TfidfVectorizer()),\n",
       "                                       (&#x27;sgd&#x27;, SGDClassifier())]),\n",
       "             param_grid={&#x27;sgd__alpha&#x27;: [0.0001, 0.01, 1, 10],\n",
       "                         &#x27;sgd__loss&#x27;: [&#x27;hinge&#x27;, &#x27;log_loss&#x27;, &#x27;modified_huber&#x27;,\n",
       "                                       &#x27;perceptron&#x27;],\n",
       "                         &#x27;sgd__max_iter&#x27;: [500, 1000, 5000],\n",
       "                         &#x27;sgd__penalty&#x27;: [&#x27;l2&#x27;, &#x27;l1&#x27;, &#x27;elasticnet&#x27;, None],\n",
       "                         &#x27;tfidf__ngram_range&#x27;: [(1, 1), (1, 2)]},\n",
       "             return_train_score=True, scoring=&#x27;accuracy&#x27;)</pre></div></div></div><div class=\"sk-parallel\"><div class=\"sk-parallel-item\"><div class=\"sk-item\"><div class=\"sk-label-container\"><div class=\"sk-label sk-toggleable\"><input class=\"sk-toggleable__control sk-hidden--visually\" id=\"sk-estimator-id-9\" type=\"checkbox\" ><label for=\"sk-estimator-id-9\" class=\"sk-toggleable__label sk-toggleable__label-arrow\">estimator: Pipeline</label><div class=\"sk-toggleable__content\"><pre>Pipeline(steps=[(&#x27;tfidf&#x27;, TfidfVectorizer()), (&#x27;sgd&#x27;, SGDClassifier())])</pre></div></div></div><div class=\"sk-serial\"><div class=\"sk-item\"><div class=\"sk-serial\"><div class=\"sk-item\"><div class=\"sk-estimator sk-toggleable\"><input class=\"sk-toggleable__control sk-hidden--visually\" id=\"sk-estimator-id-10\" type=\"checkbox\" ><label for=\"sk-estimator-id-10\" class=\"sk-toggleable__label sk-toggleable__label-arrow\">TfidfVectorizer</label><div class=\"sk-toggleable__content\"><pre>TfidfVectorizer()</pre></div></div></div><div class=\"sk-item\"><div class=\"sk-estimator sk-toggleable\"><input class=\"sk-toggleable__control sk-hidden--visually\" id=\"sk-estimator-id-11\" type=\"checkbox\" ><label for=\"sk-estimator-id-11\" class=\"sk-toggleable__label sk-toggleable__label-arrow\">SGDClassifier</label><div class=\"sk-toggleable__content\"><pre>SGDClassifier()</pre></div></div></div></div></div></div></div></div></div></div></div></div>"
      ],
      "text/plain": [
       "GridSearchCV(cv=5,\n",
       "             estimator=Pipeline(steps=[('tfidf', TfidfVectorizer()),\n",
       "                                       ('sgd', SGDClassifier())]),\n",
       "             param_grid={'sgd__alpha': [0.0001, 0.01, 1, 10],\n",
       "                         'sgd__loss': ['hinge', 'log_loss', 'modified_huber',\n",
       "                                       'perceptron'],\n",
       "                         'sgd__max_iter': [500, 1000, 5000],\n",
       "                         'sgd__penalty': ['l2', 'l1', 'elasticnet', None],\n",
       "                         'tfidf__ngram_range': [(1, 1), (1, 2)]},\n",
       "             return_train_score=True, scoring='accuracy')"
      ]
     },
     "execution_count": 226,
     "metadata": {},
     "output_type": "execute_result"
    }
   ],
   "source": [
    "model = Pipeline([('tfidf', TfidfVectorizer()), ('sgd', SGDClassifier())])\n",
    "\n",
    "params = {'tfidf__ngram_range': [(1, 1), (1, 2)],\n",
    "         'sgd__loss': ['hinge', 'log_loss', 'modified_huber', 'perceptron'],\n",
    "         'sgd__penalty': ['l2', 'l1', 'elasticnet', None],\n",
    "         'sgd__alpha': [0.0001, 0.01, 1, 10],\n",
    "         'sgd__max_iter': [500, 1000, 5000]}\n",
    "\n",
    "grid_model = GridSearchCV(estimator = model,\n",
    "                          param_grid = params,\n",
    "                          scoring = 'accuracy',\n",
    "                          cv = 5,\n",
    "                          return_train_score = True)\n",
    "\n",
    "grid_model.fit(X_train_1, y_train_1)"
   ]
  },
  {
   "cell_type": "code",
   "execution_count": 227,
   "id": "6b89438c",
   "metadata": {},
   "outputs": [
    {
     "data": {
      "text/html": [
       "<div>\n",
       "<style scoped>\n",
       "    .dataframe tbody tr th:only-of-type {\n",
       "        vertical-align: middle;\n",
       "    }\n",
       "\n",
       "    .dataframe tbody tr th {\n",
       "        vertical-align: top;\n",
       "    }\n",
       "\n",
       "    .dataframe thead th {\n",
       "        text-align: right;\n",
       "    }\n",
       "</style>\n",
       "<table border=\"1\" class=\"dataframe\">\n",
       "  <thead>\n",
       "    <tr style=\"text-align: right;\">\n",
       "      <th></th>\n",
       "      <th>params</th>\n",
       "      <th>mean_test_score</th>\n",
       "      <th>mean_train_score</th>\n",
       "      <th>mean_fit_time</th>\n",
       "      <th>rank_test_score</th>\n",
       "    </tr>\n",
       "  </thead>\n",
       "  <tbody>\n",
       "    <tr>\n",
       "      <th>8</th>\n",
       "      <td>{'sgd__alpha': 0.0001, 'sgd__loss': 'hinge', '...</td>\n",
       "      <td>0.832011</td>\n",
       "      <td>0.906275</td>\n",
       "      <td>0.514253</td>\n",
       "      <td>1</td>\n",
       "    </tr>\n",
       "    <tr>\n",
       "      <th>0</th>\n",
       "      <td>{'sgd__alpha': 0.0001, 'sgd__loss': 'hinge', '...</td>\n",
       "      <td>0.831878</td>\n",
       "      <td>0.906155</td>\n",
       "      <td>0.508133</td>\n",
       "      <td>2</td>\n",
       "    </tr>\n",
       "    <tr>\n",
       "      <th>16</th>\n",
       "      <td>{'sgd__alpha': 0.0001, 'sgd__loss': 'hinge', '...</td>\n",
       "      <td>0.831212</td>\n",
       "      <td>0.906022</td>\n",
       "      <td>0.514618</td>\n",
       "      <td>3</td>\n",
       "    </tr>\n",
       "    <tr>\n",
       "      <th>60</th>\n",
       "      <td>{'sgd__alpha': 0.0001, 'sgd__loss': 'modified_...</td>\n",
       "      <td>0.829828</td>\n",
       "      <td>0.925976</td>\n",
       "      <td>0.783699</td>\n",
       "      <td>4</td>\n",
       "    </tr>\n",
       "    <tr>\n",
       "      <th>12</th>\n",
       "      <td>{'sgd__alpha': 0.0001, 'sgd__loss': 'hinge', '...</td>\n",
       "      <td>0.829668</td>\n",
       "      <td>0.868078</td>\n",
       "      <td>0.645100</td>\n",
       "      <td>5</td>\n",
       "    </tr>\n",
       "  </tbody>\n",
       "</table>\n",
       "</div>"
      ],
      "text/plain": [
       "                                               params  mean_test_score  \\\n",
       "8   {'sgd__alpha': 0.0001, 'sgd__loss': 'hinge', '...         0.832011   \n",
       "0   {'sgd__alpha': 0.0001, 'sgd__loss': 'hinge', '...         0.831878   \n",
       "16  {'sgd__alpha': 0.0001, 'sgd__loss': 'hinge', '...         0.831212   \n",
       "60  {'sgd__alpha': 0.0001, 'sgd__loss': 'modified_...         0.829828   \n",
       "12  {'sgd__alpha': 0.0001, 'sgd__loss': 'hinge', '...         0.829668   \n",
       "\n",
       "    mean_train_score  mean_fit_time  rank_test_score  \n",
       "8           0.906275       0.514253                1  \n",
       "0           0.906155       0.508133                2  \n",
       "16          0.906022       0.514618                3  \n",
       "60          0.925976       0.783699                4  \n",
       "12          0.868078       0.645100                5  "
      ]
     },
     "execution_count": 227,
     "metadata": {},
     "output_type": "execute_result"
    }
   ],
   "source": [
    "info = pd.DataFrame(grid_model.cv_results_)[['params', \n",
    "                                            'mean_test_score', \n",
    "                                            'mean_train_score',\n",
    "                                            'mean_fit_time',\n",
    "                                            'rank_test_score']]\n",
    "info.sort_values(by = ['rank_test_score'], ascending = True, inplace = True)\n",
    "info.head()"
   ]
  },
  {
   "cell_type": "code",
   "execution_count": 292,
   "id": "56778811",
   "metadata": {},
   "outputs": [
    {
     "data": {
      "text/html": [
       "<div>\n",
       "<style scoped>\n",
       "    .dataframe tbody tr th:only-of-type {\n",
       "        vertical-align: middle;\n",
       "    }\n",
       "\n",
       "    .dataframe tbody tr th {\n",
       "        vertical-align: top;\n",
       "    }\n",
       "\n",
       "    .dataframe thead th {\n",
       "        text-align: right;\n",
       "    }\n",
       "</style>\n",
       "<table border=\"1\" class=\"dataframe\">\n",
       "  <thead>\n",
       "    <tr style=\"text-align: right;\">\n",
       "      <th></th>\n",
       "      <th>Лучшие параметры</th>\n",
       "    </tr>\n",
       "  </thead>\n",
       "  <tbody>\n",
       "    <tr>\n",
       "      <th>sgd__alpha</th>\n",
       "      <td>0.0001</td>\n",
       "    </tr>\n",
       "    <tr>\n",
       "      <th>sgd__loss</th>\n",
       "      <td>hinge</td>\n",
       "    </tr>\n",
       "    <tr>\n",
       "      <th>sgd__max_iter</th>\n",
       "      <td>1000</td>\n",
       "    </tr>\n",
       "    <tr>\n",
       "      <th>sgd__penalty</th>\n",
       "      <td>l2</td>\n",
       "    </tr>\n",
       "    <tr>\n",
       "      <th>tfidf__ngram_range</th>\n",
       "      <td>(1, 1)</td>\n",
       "    </tr>\n",
       "  </tbody>\n",
       "</table>\n",
       "</div>"
      ],
      "text/plain": [
       "                   Лучшие параметры\n",
       "sgd__alpha                   0.0001\n",
       "sgd__loss                     hinge\n",
       "sgd__max_iter                  1000\n",
       "sgd__penalty                     l2\n",
       "tfidf__ngram_range           (1, 1)"
      ]
     },
     "execution_count": 292,
     "metadata": {},
     "output_type": "execute_result"
    }
   ],
   "source": [
    "best_params = dict(info.loc[8].params)\n",
    "pd.DataFrame(best_params.values(), index = best_params.keys(), columns = ['Лучшие параметры'])"
   ]
  },
  {
   "cell_type": "code",
   "execution_count": 232,
   "id": "1568f9ae",
   "metadata": {},
   "outputs": [
    {
     "name": "stdout",
     "output_type": "stream",
     "text": [
      "Среднее значение метрики по кросс-валидации: 0.8320\n",
      "Среднее время обучения по кросс-валидации: 0.5143\n"
     ]
    }
   ],
   "source": [
    "print(f'Среднее значение метрики по кросс-валидации: {info.loc[8].mean_test_score:.4f}')\n",
    "print(f'Среднее время обучения по кросс-валидации: {info.loc[8].mean_fit_time:.4f}')"
   ]
  },
  {
   "cell_type": "markdown",
   "id": "60f111d2",
   "metadata": {},
   "source": [
    "> В результате подбора гиперпараметров получили следующую модель: `Pipeline([('tfidf', TfidfVectorizer(ngram_range = (1, 1)), ('sgd', SGDClassifier(alpha = 0.0001, loss = 'hinge', max_iter = 1000, penalty = 'l2'))])`"
   ]
  },
  {
   "cell_type": "markdown",
   "id": "09696679",
   "metadata": {},
   "source": [
    "**Ансамблирование модели:**"
   ]
  },
  {
   "cell_type": "markdown",
   "id": "90ba2224",
   "metadata": {},
   "source": [
    "Ансамблирование моделей в машинном обучении — это методика, при которой комбинируются результаты нескольких моделей для достижения лучшего прогнозирования, чем могли бы дать отдельно взятые модели. Один из популярных методов ансамблирования — это бэггинг (bagging).\n",
    "\n",
    "Bagging (Bootstrap Aggregating) — это техника ансамблирования, при которой создается несколько подвыборок данных путем случайного выбора с заменой из обучающего набора. Затем на каждой подвыборке обучается отдельная модель, их прогнозы комбинируются в результате голосования или усреднения.\n",
    "\n",
    "Bagging помогает уменьшить переобучение и повысить стабильность модели за счет усреднения шума, присутствующего в данных. Он особенно эффективен для моделей, склонных к переобучению."
   ]
  },
  {
   "cell_type": "code",
   "execution_count": 264,
   "id": "436907d3",
   "metadata": {},
   "outputs": [],
   "source": [
    "vect = TfidfVectorizer()\n",
    "X_vect_train = vect.fit_transform(X_train_1)\n",
    "\n",
    "ensemble_model = BaggingClassifier(estimator = SGDClassifier(max_iter=1000),\n",
    "                                   random_state=52)\n",
    "\n",
    "cv_ensemble = cross_validate(ensemble_model, \n",
    "                            X_vect_train, y_train_1, \n",
    "                            cv = 5, \n",
    "                            scoring = 'accuracy',\n",
    "                            return_train_score = True)"
   ]
  },
  {
   "cell_type": "code",
   "execution_count": 265,
   "id": "65836423",
   "metadata": {},
   "outputs": [
    {
     "data": {
      "text/html": [
       "<div>\n",
       "<style scoped>\n",
       "    .dataframe tbody tr th:only-of-type {\n",
       "        vertical-align: middle;\n",
       "    }\n",
       "\n",
       "    .dataframe tbody tr th {\n",
       "        vertical-align: top;\n",
       "    }\n",
       "\n",
       "    .dataframe thead th {\n",
       "        text-align: right;\n",
       "    }\n",
       "</style>\n",
       "<table border=\"1\" class=\"dataframe\">\n",
       "  <thead>\n",
       "    <tr style=\"text-align: right;\">\n",
       "      <th></th>\n",
       "      <th>fit_time</th>\n",
       "      <th>score_time</th>\n",
       "      <th>test_score</th>\n",
       "      <th>train_score</th>\n",
       "    </tr>\n",
       "  </thead>\n",
       "  <tbody>\n",
       "    <tr>\n",
       "      <th>0</th>\n",
       "      <td>1.373253</td>\n",
       "      <td>0.058257</td>\n",
       "      <td>0.830427</td>\n",
       "      <td>0.902359</td>\n",
       "    </tr>\n",
       "    <tr>\n",
       "      <th>1</th>\n",
       "      <td>1.405417</td>\n",
       "      <td>0.062430</td>\n",
       "      <td>0.835884</td>\n",
       "      <td>0.901594</td>\n",
       "    </tr>\n",
       "    <tr>\n",
       "      <th>2</th>\n",
       "      <td>1.479838</td>\n",
       "      <td>0.054924</td>\n",
       "      <td>0.835330</td>\n",
       "      <td>0.901597</td>\n",
       "    </tr>\n",
       "    <tr>\n",
       "      <th>3</th>\n",
       "      <td>1.354191</td>\n",
       "      <td>0.066512</td>\n",
       "      <td>0.833866</td>\n",
       "      <td>0.901597</td>\n",
       "    </tr>\n",
       "    <tr>\n",
       "      <th>4</th>\n",
       "      <td>1.511815</td>\n",
       "      <td>0.060014</td>\n",
       "      <td>0.834931</td>\n",
       "      <td>0.903195</td>\n",
       "    </tr>\n",
       "  </tbody>\n",
       "</table>\n",
       "</div>"
      ],
      "text/plain": [
       "   fit_time  score_time  test_score  train_score\n",
       "0  1.373253    0.058257    0.830427     0.902359\n",
       "1  1.405417    0.062430    0.835884     0.901594\n",
       "2  1.479838    0.054924    0.835330     0.901597\n",
       "3  1.354191    0.066512    0.833866     0.901597\n",
       "4  1.511815    0.060014    0.834931     0.903195"
      ]
     },
     "execution_count": 265,
     "metadata": {},
     "output_type": "execute_result"
    }
   ],
   "source": [
    "cv_df = pd.DataFrame(cv_ensemble)\n",
    "cv_df"
   ]
  },
  {
   "cell_type": "code",
   "execution_count": 266,
   "id": "25b7341a",
   "metadata": {},
   "outputs": [
    {
     "name": "stdout",
     "output_type": "stream",
     "text": [
      "Среднее значение метрики по кросс-валидации: 0.8341\n",
      "Среднее время обучения по кросс-валидации: 1.4249\n"
     ]
    }
   ],
   "source": [
    "print(f'Среднее значение метрики по кросс-валидации: {cv_df.test_score.mean():.4f}')\n",
    "print(f'Среднее время обучения по кросс-валидации: {cv_df.fit_time.mean():.4f}')"
   ]
  },
  {
   "cell_type": "markdown",
   "id": "77cf5112",
   "metadata": {},
   "source": [
    "> В результате ансамблирования модели, получили, что целевая метрика стала больше первоначальной всего на 0.002. Поэтому использование ансамблирование не целесообразно."
   ]
  },
  {
   "cell_type": "markdown",
   "id": "6b6ec916",
   "metadata": {},
   "source": [
    "### Метрики качества модели:"
   ]
  },
  {
   "cell_type": "code",
   "execution_count": 267,
   "id": "acfc2655",
   "metadata": {},
   "outputs": [],
   "source": [
    "best_model = grid_model.best_estimator_.fit(X_train_1, y_train_1)"
   ]
  },
  {
   "cell_type": "code",
   "execution_count": 268,
   "id": "75e538b5",
   "metadata": {},
   "outputs": [],
   "source": [
    "X_test_1 = X_test['tweet_text'].values\n",
    "y_test_1 = y_test['cyberbullying_type'].values"
   ]
  },
  {
   "cell_type": "code",
   "execution_count": 269,
   "id": "643b622b",
   "metadata": {},
   "outputs": [
    {
     "data": {
      "text/html": [
       "<div>\n",
       "<style scoped>\n",
       "    .dataframe tbody tr th:only-of-type {\n",
       "        vertical-align: middle;\n",
       "    }\n",
       "\n",
       "    .dataframe tbody tr th {\n",
       "        vertical-align: top;\n",
       "    }\n",
       "\n",
       "    .dataframe thead th {\n",
       "        text-align: right;\n",
       "    }\n",
       "</style>\n",
       "<table border=\"1\" class=\"dataframe\">\n",
       "  <thead>\n",
       "    <tr style=\"text-align: right;\">\n",
       "      <th></th>\n",
       "      <th>SGD</th>\n",
       "    </tr>\n",
       "  </thead>\n",
       "  <tbody>\n",
       "    <tr>\n",
       "      <th>Accuracy</th>\n",
       "      <td>0.826323</td>\n",
       "    </tr>\n",
       "    <tr>\n",
       "      <th>Precision</th>\n",
       "      <td>0.821346</td>\n",
       "    </tr>\n",
       "    <tr>\n",
       "      <th>Recall</th>\n",
       "      <td>0.826884</td>\n",
       "    </tr>\n",
       "    <tr>\n",
       "      <th>F1</th>\n",
       "      <td>0.819762</td>\n",
       "    </tr>\n",
       "  </tbody>\n",
       "</table>\n",
       "</div>"
      ],
      "text/plain": [
       "                SGD\n",
       "Accuracy   0.826323\n",
       "Precision  0.821346\n",
       "Recall     0.826884\n",
       "F1         0.819762"
      ]
     },
     "execution_count": 269,
     "metadata": {},
     "output_type": "execute_result"
    }
   ],
   "source": [
    "y_pred = best_model.predict(X_test_1)\n",
    "\n",
    "acc = accuracy_score(y_test_1, y_pred)\n",
    "pr = precision_score(y_test_1, y_pred, average = 'macro')\n",
    "rc = recall_score(y_test_1, y_pred, average = 'macro')\n",
    "f1 = f1_score(y_test_1, y_pred, average = 'macro')\n",
    "\n",
    "metrics = pd.DataFrame({'SGD': [acc, pr, rc, f1]}, \n",
    "                        index = ['Accuracy', 'Precision', 'Recall', 'F1'])\n",
    "metrics"
   ]
  },
  {
   "cell_type": "markdown",
   "id": "aa015693",
   "metadata": {},
   "source": [
    "Построим матрицу ошибок для лучшего понимания того, какие классы модель предсказывает правильно:"
   ]
  },
  {
   "cell_type": "code",
   "execution_count": 271,
   "id": "d4106509",
   "metadata": {},
   "outputs": [
    {
     "data": {
      "image/png": "[encoded data removed]",
      "text/plain": [
       "<Figure size 1000x600 with 2 Axes>"
      ]
     },
     "metadata": {},
     "output_type": "display_data"
    }
   ],
   "source": [
    "fig, ax = plt.subplots(figsize = (10, 6))\n",
    "sns.heatmap(confusion_matrix(y_test_1, y_pred), cmap=\"coolwarm\", annot = True)\n",
    "plt.show()"
   ]
  },
  {
   "cell_type": "markdown",
   "id": "52cf6d53",
   "metadata": {},
   "source": [
    "> По матрице ошибок видим, что количество ошибок очень мало по отношению ко всей выборке. Но один из классов (other_cyberbullying) предсказывается хуже остальных."
   ]
  },
  {
   "cell_type": "markdown",
   "id": "4744d2df",
   "metadata": {},
   "source": [
    "Проанализируем кривые ROC-AUC и PR-AUC:"
   ]
  },
  {
   "cell_type": "code",
   "execution_count": 273,
   "id": "448c2ea3",
   "metadata": {},
   "outputs": [
    {
     "data": {
      "image/png": "[encoded data removed]",
      "text/plain": [
       "<Figure size 800x550 with 1 Axes>"
      ]
     },
     "metadata": {},
     "output_type": "display_data"
    },
    {
     "data": {
      "text/plain": [
       "<Axes: title={'center': 'ROC Curves for SGDClassifier'}, xlabel='False Positive Rate', ylabel='True Positive Rate'>"
      ]
     },
     "execution_count": 273,
     "metadata": {},
     "output_type": "execute_result"
    }
   ],
   "source": [
    "cls = pd.unique(y_train_1)\n",
    "visualizer_roc = ROCAUC(best_model, classes = cls)\n",
    "visualizer_roc.fit(X_train_1, y_train_1)\n",
    "visualizer_roc.score(X_test_1, y_test_1)\n",
    "visualizer_roc.show()"
   ]
  },
  {
   "cell_type": "markdown",
   "id": "67fe6d9a",
   "metadata": {},
   "source": [
    "На графике ROC кривых представленны кривые и метрики для каждого из шести классов. Так как данный показатель применим только к бинарной классификации, алгоритм рассчитывает метрики для каждого класса, обозначая нужный класс за 0, а остальные за 1, тем самым приводя к бинарной классификации.\n",
    "\n",
    "> Показатель AUC−ROC является мерой качества классификатора относительно идеального. Значение показателя в пределах [0.8, 1] говорит об очень хорошем качестве модели."
   ]
  },
  {
   "cell_type": "code",
   "execution_count": 274,
   "id": "f75cd7b9",
   "metadata": {},
   "outputs": [
    {
     "data": {
      "image/png": "[encoded data removed]",
      "text/plain": [
       "<Figure size 800x550 with 1 Axes>"
      ]
     },
     "metadata": {},
     "output_type": "display_data"
    },
    {
     "data": {
      "text/plain": [
       "<Axes: title={'center': 'Precision-Recall Curve for SGDClassifier'}, xlabel='Recall', ylabel='Precision'>"
      ]
     },
     "execution_count": 274,
     "metadata": {},
     "output_type": "execute_result"
    }
   ],
   "source": [
    "visualizer_pr = PrecisionRecallCurve(best_model, classes = cls)\n",
    "visualizer_pr.fit(X_train_1, y_train_1)\n",
    "visualizer_pr.score(X_test_1, y_test_1)\n",
    "visualizer_pr.show()"
   ]
  },
  {
   "cell_type": "markdown",
   "id": "487c42d1",
   "metadata": {},
   "source": [
    "PR-AUC - метрика, отражает качество классификатора и позволяет сравнивать кривые, соответствующие различным балансам классов и значениям порога. Чем выше площадь, тем лучше работает модель. \n",
    "\n",
    "> В данном случае метрика равна 0.9, что говорит о хорошем качестве модели."
   ]
  },
  {
   "cell_type": "markdown",
   "id": "4f39b589",
   "metadata": {},
   "source": [
    "# Заключение"
   ]
  },
  {
   "cell_type": "markdown",
   "id": "7878b040",
   "metadata": {},
   "source": [
    "В результате проведенного исследования с помощью методов машинного обучения для обработки текста на естественных языках удалось получить модель машинного обучения для задачи классификации. Метрика качества accuracy полученной модели составляет 83%.\n",
    "\n",
    "Машинное обучение играет ключевую роль в решении задач обработки текста на естественных языках, включая выявление кибербуллинга в социальных медиа. Модель, разработанная в данной работе, позволяет определить наличие киббербуллинга, а также его тип. Такая модель может быть использована, например, при создании ботов, которые бы автоматически удаляли агрессивные комментарии.\n",
    "\n",
    "Таким образом, можно сказать, что исследование, проведенное в данной работе, имеет большой потенциал и может быть использовано на благо общества.\n"
   ]
  }
 ],
 "metadata": {
  "kernelspec": {
   "display_name": "Python 3 (ipykernel)",
   "language": "python",
   "name": "python3"
  },
  "language_info": {
   "codemirror_mode": {
    "name": "ipython",
    "version": 3
   },
   "file_extension": ".py",
   "mimetype": "text/x-python",
   "name": "python",
   "nbconvert_exporter": "python",
   "pygments_lexer": "ipython3",
   "version": "3.10.9"
  }
 },
 "nbformat": 4,
 "nbformat_minor": 5
}
